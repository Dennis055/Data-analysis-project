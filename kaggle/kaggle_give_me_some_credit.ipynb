{
 "cells": [
  {
   "cell_type": "markdown",
   "metadata": {},
   "source": [
    "<b>背景：利用金融所創造出來的流動性使得人們的物質生活更豐富，在這其中信用評比就成為金融的鑰匙，核發正確的貸款使得金錢的利用更有效率\n"
   ]
  },
  {
   "cell_type": "code",
   "execution_count": 63,
   "metadata": {},
   "outputs": [],
   "source": [
    "%matplotlib inline\n",
    "import pandas as pd\n",
    "import seaborn as sns\n",
    "import numpy as np\n",
    "import matplotlib.pyplot as plt"
   ]
  },
  {
   "cell_type": "code",
   "execution_count": 64,
   "metadata": {},
   "outputs": [
    {
     "data": {
      "text/html": [
       "<div>\n",
       "<style scoped>\n",
       "    .dataframe tbody tr th:only-of-type {\n",
       "        vertical-align: middle;\n",
       "    }\n",
       "\n",
       "    .dataframe tbody tr th {\n",
       "        vertical-align: top;\n",
       "    }\n",
       "\n",
       "    .dataframe thead th {\n",
       "        text-align: right;\n",
       "    }\n",
       "</style>\n",
       "<table border=\"1\" class=\"dataframe\">\n",
       "  <thead>\n",
       "    <tr style=\"text-align: right;\">\n",
       "      <th></th>\n",
       "      <th>Unnamed: 0</th>\n",
       "      <th>SeriousDlqin2yrs</th>\n",
       "      <th>RevolvingUtilizationOfUnsecuredLines</th>\n",
       "      <th>age</th>\n",
       "      <th>NumberOfTime30-59DaysPastDueNotWorse</th>\n",
       "      <th>DebtRatio</th>\n",
       "      <th>MonthlyIncome</th>\n",
       "      <th>NumberOfOpenCreditLinesAndLoans</th>\n",
       "      <th>NumberOfTimes90DaysLate</th>\n",
       "      <th>NumberRealEstateLoansOrLines</th>\n",
       "      <th>NumberOfTime60-89DaysPastDueNotWorse</th>\n",
       "      <th>NumberOfDependents</th>\n",
       "    </tr>\n",
       "  </thead>\n",
       "  <tbody>\n",
       "    <tr>\n",
       "      <th>0</th>\n",
       "      <td>1</td>\n",
       "      <td>1</td>\n",
       "      <td>0.766127</td>\n",
       "      <td>45</td>\n",
       "      <td>2</td>\n",
       "      <td>0.802982</td>\n",
       "      <td>9120.0</td>\n",
       "      <td>13</td>\n",
       "      <td>0</td>\n",
       "      <td>6</td>\n",
       "      <td>0</td>\n",
       "      <td>2.0</td>\n",
       "    </tr>\n",
       "    <tr>\n",
       "      <th>1</th>\n",
       "      <td>2</td>\n",
       "      <td>0</td>\n",
       "      <td>0.957151</td>\n",
       "      <td>40</td>\n",
       "      <td>0</td>\n",
       "      <td>0.121876</td>\n",
       "      <td>2600.0</td>\n",
       "      <td>4</td>\n",
       "      <td>0</td>\n",
       "      <td>0</td>\n",
       "      <td>0</td>\n",
       "      <td>1.0</td>\n",
       "    </tr>\n",
       "    <tr>\n",
       "      <th>2</th>\n",
       "      <td>3</td>\n",
       "      <td>0</td>\n",
       "      <td>0.658180</td>\n",
       "      <td>38</td>\n",
       "      <td>1</td>\n",
       "      <td>0.085113</td>\n",
       "      <td>3042.0</td>\n",
       "      <td>2</td>\n",
       "      <td>1</td>\n",
       "      <td>0</td>\n",
       "      <td>0</td>\n",
       "      <td>0.0</td>\n",
       "    </tr>\n",
       "    <tr>\n",
       "      <th>3</th>\n",
       "      <td>4</td>\n",
       "      <td>0</td>\n",
       "      <td>0.233810</td>\n",
       "      <td>30</td>\n",
       "      <td>0</td>\n",
       "      <td>0.036050</td>\n",
       "      <td>3300.0</td>\n",
       "      <td>5</td>\n",
       "      <td>0</td>\n",
       "      <td>0</td>\n",
       "      <td>0</td>\n",
       "      <td>0.0</td>\n",
       "    </tr>\n",
       "    <tr>\n",
       "      <th>4</th>\n",
       "      <td>5</td>\n",
       "      <td>0</td>\n",
       "      <td>0.907239</td>\n",
       "      <td>49</td>\n",
       "      <td>1</td>\n",
       "      <td>0.024926</td>\n",
       "      <td>63588.0</td>\n",
       "      <td>7</td>\n",
       "      <td>0</td>\n",
       "      <td>1</td>\n",
       "      <td>0</td>\n",
       "      <td>0.0</td>\n",
       "    </tr>\n",
       "  </tbody>\n",
       "</table>\n",
       "</div>"
      ],
      "text/plain": [
       "   Unnamed: 0  SeriousDlqin2yrs  RevolvingUtilizationOfUnsecuredLines  age  \\\n",
       "0           1                 1                              0.766127   45   \n",
       "1           2                 0                              0.957151   40   \n",
       "2           3                 0                              0.658180   38   \n",
       "3           4                 0                              0.233810   30   \n",
       "4           5                 0                              0.907239   49   \n",
       "\n",
       "   NumberOfTime30-59DaysPastDueNotWorse  DebtRatio  MonthlyIncome  \\\n",
       "0                                     2   0.802982         9120.0   \n",
       "1                                     0   0.121876         2600.0   \n",
       "2                                     1   0.085113         3042.0   \n",
       "3                                     0   0.036050         3300.0   \n",
       "4                                     1   0.024926        63588.0   \n",
       "\n",
       "   NumberOfOpenCreditLinesAndLoans  NumberOfTimes90DaysLate  \\\n",
       "0                               13                        0   \n",
       "1                                4                        0   \n",
       "2                                2                        1   \n",
       "3                                5                        0   \n",
       "4                                7                        0   \n",
       "\n",
       "   NumberRealEstateLoansOrLines  NumberOfTime60-89DaysPastDueNotWorse  \\\n",
       "0                             6                                     0   \n",
       "1                             0                                     0   \n",
       "2                             0                                     0   \n",
       "3                             0                                     0   \n",
       "4                             1                                     0   \n",
       "\n",
       "   NumberOfDependents  \n",
       "0                 2.0  \n",
       "1                 1.0  \n",
       "2                 0.0  \n",
       "3                 0.0  \n",
       "4                 0.0  "
      ]
     },
     "execution_count": 64,
     "metadata": {},
     "output_type": "execute_result"
    }
   ],
   "source": [
    "df = pd.read_csv('/Users/Dennis/Downloads/Give-me-some-credit-master/data/cs-training.csv')\n",
    "df.head()"
   ]
  },
  {
   "cell_type": "code",
   "execution_count": 65,
   "metadata": {},
   "outputs": [
    {
     "name": "stdout",
     "output_type": "stream",
     "text": [
      "<class 'pandas.core.frame.DataFrame'>\n",
      "RangeIndex: 150000 entries, 0 to 149999\n",
      "Data columns (total 12 columns):\n",
      "Unnamed: 0                              150000 non-null int64\n",
      "SeriousDlqin2yrs                        150000 non-null int64\n",
      "RevolvingUtilizationOfUnsecuredLines    150000 non-null float64\n",
      "age                                     150000 non-null int64\n",
      "NumberOfTime30-59DaysPastDueNotWorse    150000 non-null int64\n",
      "DebtRatio                               150000 non-null float64\n",
      "MonthlyIncome                           120269 non-null float64\n",
      "NumberOfOpenCreditLinesAndLoans         150000 non-null int64\n",
      "NumberOfTimes90DaysLate                 150000 non-null int64\n",
      "NumberRealEstateLoansOrLines            150000 non-null int64\n",
      "NumberOfTime60-89DaysPastDueNotWorse    150000 non-null int64\n",
      "NumberOfDependents                      146076 non-null float64\n",
      "dtypes: float64(4), int64(8)\n",
      "memory usage: 13.7 MB\n"
     ]
    }
   ],
   "source": [
    "df.info()"
   ]
  },
  {
   "cell_type": "markdown",
   "metadata": {},
   "source": [
    "可以看到家屬、收入含有缺失值，可見許多人果然不太想讓別人知道自己的收入水準，家屬則缺少了一點，值得注意的是同樣屬於「調查性資料」的DebtRatio\n",
    "並沒有缺失值？還蠻可疑的，待會要好好確認一下。有趣的是：沒有公布家庭資訊的一定也不會公布收入水準。"
   ]
  },
  {
   "cell_type": "code",
   "execution_count": 66,
   "metadata": {},
   "outputs": [
    {
     "data": {
      "text/plain": [
       "<matplotlib.axes._subplots.AxesSubplot at 0x1a2c847940>"
      ]
     },
     "execution_count": 66,
     "metadata": {},
     "output_type": "execute_result"
    },
    {
     "data": {
      "image/png": "[encoded data removed]",
      "text/plain": [
       "<Figure size 1152x288 with 1 Axes>"
      ]
     },
     "metadata": {
      "needs_background": "light"
     },
     "output_type": "display_data"
    }
   ],
   "source": [
    "plt.figure(figsize = (16,4))\n",
    "plt.suptitle('Number of Dependent')\n",
    "sns.countplot(df.NumberOfDependents)"
   ]
  },
  {
   "cell_type": "markdown",
   "metadata": {},
   "source": [
    "原始數據中單身的人比較多，所以填補缺失的時候我們可以加重權重。"
   ]
  },
  {
   "cell_type": "code",
   "execution_count": 67,
   "metadata": {},
   "outputs": [
    {
     "name": "stdout",
     "output_type": "stream",
     "text": [
      "[nan]\n"
     ]
    },
    {
     "name": "stderr",
     "output_type": "stream",
     "text": [
      "/Users/Dennis/anaconda3/lib/python3.7/site-packages/scipy/stats/stats.py:1713: FutureWarning: Using a non-tuple sequence for multidimensional indexing is deprecated; use `arr[tuple(seq)]` instead of `arr[seq]`. In the future this will be interpreted as an array index, `arr[np.array(seq)]`, which will result either in an error or a different result.\n",
      "  return np.add.reduce(sorted[indexer] * weights, axis=axis) / sumval\n"
     ]
    },
    {
     "data": {
      "text/plain": [
       "<matplotlib.axes._subplots.AxesSubplot at 0x1a27782d68>"
      ]
     },
     "execution_count": 67,
     "metadata": {},
     "output_type": "execute_result"
    },
    {
     "data": {
      "image/png": "[encoded data removed]",
      "text/plain": [
       "<Figure size 1440x432 with 1 Axes>"
      ]
     },
     "metadata": {
      "needs_background": "light"
     },
     "output_type": "display_data"
    }
   ],
   "source": [
    "# nan_dep = len(df[df.NumberOfDependents.isna()==True])\n",
    "# nan_mi = len(df[df.MonthlyIncome.isna()==True])\n",
    "# print(nan_dep)\n",
    "# print(nan_mi)\n",
    "print(df[df.NumberOfDependents.isna()==True]['MonthlyIncome'].unique())\n",
    "nan_df = df[df.NumberOfDependents.isna()==True]\n",
    "plt.figure(figsize = (20,6))\n",
    "plt.suptitle('Distribution of age that dependence we don\\'t know ')\n",
    "sns.distplot(nan_df.age)"
   ]
  },
  {
   "cell_type": "markdown",
   "metadata": {},
   "source": [
    "這裡我們可以發現，年齡大部分集中在40~80歲，其中有接近百歲，另外一個峰值位於20歲出頭，所以我們來看一下這兩個峰值左右的家庭狀況"
   ]
  },
  {
   "cell_type": "code",
   "execution_count": 68,
   "metadata": {},
   "outputs": [
    {
     "data": {
      "text/plain": [
       "<matplotlib.axes._subplots.AxesSubplot at 0x1a2789ccf8>"
      ]
     },
     "execution_count": 68,
     "metadata": {},
     "output_type": "execute_result"
    },
    {
     "data": {
      "image/png": "[encoded data removed]",
      "text/plain": [
       "<Figure size 1152x720 with 2 Axes>"
      ]
     },
     "metadata": {
      "needs_background": "light"
     },
     "output_type": "display_data"
    }
   ],
   "source": [
    "fig,(ax1,ax2) = plt.subplots(2,1,figsize = (16,10))\n",
    "sns.countplot(df[(df.age > 20) & df.age <25]['NumberOfDependents'],ax=ax1)\n",
    "ax1.set_title('Number of dependents age more than 20 and less than 30')\n",
    "ax2.set_title('Number of dependents age more than 50 and less than 75')\n",
    "sns.countplot(df[(df.age > 50) & (df.age <75)]['NumberOfDependents'],ax = ax2)"
   ]
  },
  {
   "cell_type": "markdown",
   "metadata": {},
   "source": [
    "發現果然還是單身族群比較多一點，甚至多非常多，考慮都填上0"
   ]
  },
  {
   "cell_type": "code",
   "execution_count": 100,
   "metadata": {},
   "outputs": [],
   "source": [
    "df.NumberOfDependents = df.NumberOfDependents.fillna(0)"
   ]
  },
  {
   "cell_type": "code",
   "execution_count": 98,
   "metadata": {},
   "outputs": [],
   "source": [
    "# from random import sample\n",
    "# Dependents = pd.Series([0,1,2,3,4])\n",
    "# for i in data['NumberOfDependents'][data['NumberOfDependents'].isnull()].index:\n",
    "#     data['NumberOfDependents'][i] = Dependents.sample(1)\n",
    "\n",
    "\n",
    "# import random\n",
    "\n",
    "# def list_method(data):\n",
    "#     all_data = []\n",
    "#     for v, w in data.items():\n",
    "#         temp = []\n",
    "#         for i in range(w):\n",
    "#             temp.append(v)\n",
    "#         all_data.extend(temp)\n",
    "        \n",
    "#     n = random.randint(0,len(all_data)-1)\n",
    "#     return all_data[n]\n",
    "\n",
    "# def fill_imblance_dep(data):\n",
    "# #     Dependents = {0:89602,1:26316,2:19522,3:9483,4:2862,5:746,6:158}\n",
    "#     Dependents = dict()\n",
    "#     ls = [158,746,2862,9483,19522,26316,89602]\n",
    "#     point = 6\n",
    "#     for i in ls:\n",
    "#         Dependents[point] = int((i/148689)*1000)\n",
    "#         point -= 1\n",
    "#     for i in data['NumberOfDependents'][data['NumberOfDependents'].isnull()].index:\n",
    "#         data['NumberOfDependents'][i] = list_method(Dependents)\n",
    "# fill_imblance_dep(df)\n",
    "# df.info()"
   ]
  },
  {
   "cell_type": "code",
   "execution_count": 102,
   "metadata": {},
   "outputs": [
    {
     "name": "stderr",
     "output_type": "stream",
     "text": [
      "/Users/Dennis/anaconda3/lib/python3.7/site-packages/ipykernel_launcher.py:5: FutureWarning: Method .as_matrix will be removed in a future version. Use .values instead.\n",
      "  \"\"\"\n",
      "/Users/Dennis/anaconda3/lib/python3.7/site-packages/ipykernel_launcher.py:6: FutureWarning: Method .as_matrix will be removed in a future version. Use .values instead.\n",
      "  \n"
     ]
    }
   ],
   "source": [
    "from sklearn.ensemble import RandomForestRegressor\n",
    "\n",
    "def rf_filling(df):\n",
    "    process_miss = df.iloc[:,[6,0,1,2,3,4,5,7,8,9]]\n",
    "    known = process_miss[process_miss.MonthlyIncome.notnull()].as_matrix()\n",
    "    unknown = process_miss[process_miss.MonthlyIncome.isnull()].as_matrix()\n",
    "    X = known[:,1:]\n",
    "    Y = known[:,0]\n",
    "    \n",
    "    rf = RandomForestRegressor(random_state = 42,  n_estimators = 20 , max_depth = 3)\n",
    "    rf.fit(X,Y)\n",
    "    pred = rf.predict(unknown[:,1:]).round(0)\n",
    "    \n",
    "    df.loc[df['MonthlyIncome'].isnull(),'MonthlyIncome'] = pred\n",
    "    return df\n",
    "df = rf_filling(df)"
   ]
  },
  {
   "cell_type": "markdown",
   "metadata": {},
   "source": [
    "這邊我們將其他feature當作變數去預測MonthlyIncome"
   ]
  },
  {
   "cell_type": "code",
   "execution_count": 103,
   "metadata": {},
   "outputs": [
    {
     "name": "stdout",
     "output_type": "stream",
     "text": [
      "<class 'pandas.core.frame.DataFrame'>\n",
      "RangeIndex: 150000 entries, 0 to 149999\n",
      "Data columns (total 12 columns):\n",
      "Unnamed: 0                              150000 non-null int64\n",
      "SeriousDlqin2yrs                        150000 non-null int64\n",
      "RevolvingUtilizationOfUnsecuredLines    150000 non-null float64\n",
      "age                                     150000 non-null int64\n",
      "NumberOfTime30-59DaysPastDueNotWorse    150000 non-null int64\n",
      "DebtRatio                               150000 non-null float64\n",
      "MonthlyIncome                           150000 non-null float64\n",
      "NumberOfOpenCreditLinesAndLoans         150000 non-null int64\n",
      "NumberOfTimes90DaysLate                 150000 non-null int64\n",
      "NumberRealEstateLoansOrLines            150000 non-null int64\n",
      "NumberOfTime60-89DaysPastDueNotWorse    150000 non-null int64\n",
      "NumberOfDependents                      150000 non-null float64\n",
      "dtypes: float64(4), int64(8)\n",
      "memory usage: 13.7 MB\n"
     ]
    }
   ],
   "source": [
    "df.info()"
   ]
  },
  {
   "cell_type": "markdown",
   "metadata": {},
   "source": [
    "# 處理異常值"
   ]
  },
  {
   "cell_type": "code",
   "execution_count": 105,
   "metadata": {},
   "outputs": [
    {
     "data": {
      "text/plain": [
       "<matplotlib.axes._subplots.AxesSubplot at 0x1a282f3780>"
      ]
     },
     "execution_count": 105,
     "metadata": {},
     "output_type": "execute_result"
    },
    {
     "data": {
      "image/png": "[encoded data removed]",
      "text/plain": [
       "<Figure size 576x432 with 1 Axes>"
      ]
     },
     "metadata": {
      "needs_background": "light"
     },
     "output_type": "display_data"
    }
   ],
   "source": [
    "fig = plt.figure(figsize = (8,6))\n",
    "ax = fig.add_subplot()\n",
    "sns.boxplot(df.age ,ax=ax)"
   ]
  },
  {
   "cell_type": "markdown",
   "metadata": {},
   "source": [
    "大於100歲的也太多XD 0歲的明顯不合理。這邊我們使用蓋帽法，把這些數值都縮到標準差。\n",
    "<div>\n",
    "另外我們也好奇，這樣的數據長什麼樣子？\n",
    "<div>\n",
    "主要是他們的信用卡都開蠻多的，大部分仍是單身？\n",
    "不過為了建模考量，我們還是要縮減到標準差"
   ]
  },
  {
   "cell_type": "code",
   "execution_count": 107,
   "metadata": {},
   "outputs": [
    {
     "data": {
      "text/html": [
       "<div>\n",
       "<style scoped>\n",
       "    .dataframe tbody tr th:only-of-type {\n",
       "        vertical-align: middle;\n",
       "    }\n",
       "\n",
       "    .dataframe tbody tr th {\n",
       "        vertical-align: top;\n",
       "    }\n",
       "\n",
       "    .dataframe thead th {\n",
       "        text-align: right;\n",
       "    }\n",
       "</style>\n",
       "<table border=\"1\" class=\"dataframe\">\n",
       "  <thead>\n",
       "    <tr style=\"text-align: right;\">\n",
       "      <th></th>\n",
       "      <th>Unnamed: 0</th>\n",
       "      <th>SeriousDlqin2yrs</th>\n",
       "      <th>RevolvingUtilizationOfUnsecuredLines</th>\n",
       "      <th>age</th>\n",
       "      <th>NumberOfTime30-59DaysPastDueNotWorse</th>\n",
       "      <th>DebtRatio</th>\n",
       "      <th>MonthlyIncome</th>\n",
       "      <th>NumberOfOpenCreditLinesAndLoans</th>\n",
       "      <th>NumberOfTimes90DaysLate</th>\n",
       "      <th>NumberRealEstateLoansOrLines</th>\n",
       "      <th>NumberOfTime60-89DaysPastDueNotWorse</th>\n",
       "      <th>NumberOfDependents</th>\n",
       "    </tr>\n",
       "  </thead>\n",
       "  <tbody>\n",
       "    <tr>\n",
       "      <th>65695</th>\n",
       "      <td>65696</td>\n",
       "      <td>0</td>\n",
       "      <td>1.0</td>\n",
       "      <td>0</td>\n",
       "      <td>1</td>\n",
       "      <td>0.436927</td>\n",
       "      <td>6000.0</td>\n",
       "      <td>6</td>\n",
       "      <td>0</td>\n",
       "      <td>2</td>\n",
       "      <td>0</td>\n",
       "      <td>2.0</td>\n",
       "    </tr>\n",
       "  </tbody>\n",
       "</table>\n",
       "</div>"
      ],
      "text/plain": [
       "       Unnamed: 0  SeriousDlqin2yrs  RevolvingUtilizationOfUnsecuredLines  \\\n",
       "65695       65696                 0                                   1.0   \n",
       "\n",
       "       age  NumberOfTime30-59DaysPastDueNotWorse  DebtRatio  MonthlyIncome  \\\n",
       "65695    0                                     1   0.436927         6000.0   \n",
       "\n",
       "       NumberOfOpenCreditLinesAndLoans  NumberOfTimes90DaysLate  \\\n",
       "65695                                6                        0   \n",
       "\n",
       "       NumberRealEstateLoansOrLines  NumberOfTime60-89DaysPastDueNotWorse  \\\n",
       "65695                             2                                     0   \n",
       "\n",
       "       NumberOfDependents  \n",
       "65695                 2.0  "
      ]
     },
     "execution_count": 107,
     "metadata": {},
     "output_type": "execute_result"
    }
   ],
   "source": [
    "df[df.age > 100]\n",
    "df[df.age ==0]"
   ]
  },
  {
   "cell_type": "code",
   "execution_count": 122,
   "metadata": {},
   "outputs": [],
   "source": [
    "df.age.median() - int(2*df.age.std())\n",
    "df.age.median() + int(2*df.age.std())\n",
    "df.loc[df.age > 100 ,'age' ] = df.age.median() + int(2*df.age.std())\n",
    "df.loc[df.age < 20 , 'age'] = df.age.median() - int(2*df.age.std())"
   ]
  },
  {
   "cell_type": "code",
   "execution_count": 128,
   "metadata": {},
   "outputs": [
    {
     "data": {
      "text/plain": [
       "{'whiskers': [<matplotlib.lines.Line2D at 0x1a2cbcab38>,\n",
       "  <matplotlib.lines.Line2D at 0x1a2cbcae80>,\n",
       "  <matplotlib.lines.Line2D at 0x1a30b072b0>,\n",
       "  <matplotlib.lines.Line2D at 0x1a30b075f8>],\n",
       " 'caps': [<matplotlib.lines.Line2D at 0x1a2cbcaf60>,\n",
       "  <matplotlib.lines.Line2D at 0x1a2cbd1550>,\n",
       "  <matplotlib.lines.Line2D at 0x1a30b07940>,\n",
       "  <matplotlib.lines.Line2D at 0x1a30b07c88>],\n",
       " 'boxes': [<matplotlib.lines.Line2D at 0x1a2cbca748>,\n",
       "  <matplotlib.lines.Line2D at 0x1a2cbd1f28>],\n",
       " 'medians': [<matplotlib.lines.Line2D at 0x1a2cbd1898>,\n",
       "  <matplotlib.lines.Line2D at 0x1a30b07fd0>],\n",
       " 'fliers': [<matplotlib.lines.Line2D at 0x1a2cbd1be0>,\n",
       "  <matplotlib.lines.Line2D at 0x1a30b11358>],\n",
       " 'means': []}"
      ]
     },
     "execution_count": 128,
     "metadata": {},
     "output_type": "execute_result"
    },
    {
     "data": {
      "image/png": "[encoded data removed]",
      "text/plain": [
       "<Figure size 576x432 with 1 Axes>"
      ]
     },
     "metadata": {
      "needs_background": "light"
     },
     "output_type": "display_data"
    }
   ],
   "source": [
    "fig = plt.figure(figsize = (8,6))\n",
    "ax = fig.add_subplot(111)\n",
    "x1 = df.RevolvingUtilizationOfUnsecuredLines\n",
    "x2 = df.DebtRatio\n",
    "ax.boxplot([x1 , x2])"
   ]
  },
  {
   "cell_type": "code",
   "execution_count": 406,
   "metadata": {},
   "outputs": [
    {
     "ename": "SyntaxError",
     "evalue": "invalid syntax (<ipython-input-406-9efeda915f5c>, line 1)",
     "output_type": "error",
     "traceback": [
      "\u001b[0;36m  File \u001b[0;32m\"<ipython-input-406-9efeda915f5c>\"\u001b[0;36m, line \u001b[0;32m1\u001b[0m\n\u001b[0;31m    for i in range(3,4)\u001b[0m\n\u001b[0m                       ^\u001b[0m\n\u001b[0;31mSyntaxError\u001b[0m\u001b[0;31m:\u001b[0m invalid syntax\n"
     ]
    }
   ],
   "source": [
    "for i in range(3,4)"
   ]
  },
  {
   "cell_type": "code",
   "execution_count": 131,
   "metadata": {},
   "outputs": [
    {
     "name": "stderr",
     "output_type": "stream",
     "text": [
      "/Users/Dennis/anaconda3/lib/python3.7/site-packages/scipy/stats/stats.py:1713: FutureWarning: Using a non-tuple sequence for multidimensional indexing is deprecated; use `arr[tuple(seq)]` instead of `arr[seq]`. In the future this will be interpreted as an array index, `arr[np.array(seq)]`, which will result either in an error or a different result.\n",
      "  return np.add.reduce(sorted[indexer] * weights, axis=axis) / sumval\n"
     ]
    },
    {
     "data": {
      "text/plain": [
       "<matplotlib.axes._subplots.AxesSubplot at 0x1a2c197128>"
      ]
     },
     "execution_count": 131,
     "metadata": {},
     "output_type": "execute_result"
    },
    {
     "data": {
      "image/png": "[encoded data removed]",
      "text/plain": [
       "<Figure size 432x288 with 1 Axes>"
      ]
     },
     "metadata": {
      "needs_background": "light"
     },
     "output_type": "display_data"
    }
   ],
   "source": [
    "sns.distplot(df[df.RevolvingUtilizationOfUnsecuredLines > 1].RevolvingUtilizationOfUnsecuredLines)"
   ]
  },
  {
   "cell_type": "code",
   "execution_count": 139,
   "metadata": {},
   "outputs": [
    {
     "data": {
      "text/plain": [
       "[Text(0, 0, 'NumberOfTime30-59DaysPastDueNotWorse'),\n",
       " Text(0, 0, 'NumberOfTimes90DaysLate'),\n",
       " Text(0, 0, 'NumberOfTime60-89DaysPastDueNotWorse')]"
      ]
     },
     "execution_count": 139,
     "metadata": {},
     "output_type": "execute_result"
    },
    {
     "data": {
      "image/png": "[encoded data removed]",
      "text/plain": [
       "<Figure size 1440x576 with 1 Axes>"
      ]
     },
     "metadata": {
      "needs_background": "light"
     },
     "output_type": "display_data"
    }
   ],
   "source": [
    "fig = plt.figure(figsize = (20,8))\n",
    "x1 = df['NumberOfTime30-59DaysPastDueNotWorse']\n",
    "x2 = df['NumberOfTimes90DaysLate']\n",
    "x3 = df['NumberOfTime60-89DaysPastDueNotWorse']\n",
    "ax = fig.add_subplot(111)\n",
    "ax.boxplot([x1,x2,x3])\n",
    "ax.set_xticklabels(['NumberOfTime30-59DaysPastDueNotWorse','NumberOfTimes90DaysLate','NumberOfTime60-89DaysPastDueNotWorse'])"
   ]
  },
  {
   "cell_type": "markdown",
   "metadata": {},
   "source": [
    "共同點就是都有異常值。大概落在90~100，而且似乎重疊了<p>\n",
    "看一下數據，原來都是98，也就是說我們可以想見數據經過了填補缺失都是98的前處理。<div>\n",
    "而某些則是用96代替。<div>\n",
    "<b>可以先問業務單位數據經過什麼樣的處理，為什麼要這樣處理？<div>\n",
    "所以我們還是Random forest來重新填補這些離群值。<div>"
   ]
  },
  {
   "cell_type": "code",
   "execution_count": 144,
   "metadata": {},
   "outputs": [
    {
     "data": {
      "text/html": [
       "<div>\n",
       "<style scoped>\n",
       "    .dataframe tbody tr th:only-of-type {\n",
       "        vertical-align: middle;\n",
       "    }\n",
       "\n",
       "    .dataframe tbody tr th {\n",
       "        vertical-align: top;\n",
       "    }\n",
       "\n",
       "    .dataframe thead th {\n",
       "        text-align: right;\n",
       "    }\n",
       "</style>\n",
       "<table border=\"1\" class=\"dataframe\">\n",
       "  <thead>\n",
       "    <tr style=\"text-align: right;\">\n",
       "      <th></th>\n",
       "      <th>Unnamed: 0</th>\n",
       "      <th>SeriousDlqin2yrs</th>\n",
       "      <th>RevolvingUtilizationOfUnsecuredLines</th>\n",
       "      <th>age</th>\n",
       "      <th>NumberOfTime30-59DaysPastDueNotWorse</th>\n",
       "      <th>DebtRatio</th>\n",
       "      <th>MonthlyIncome</th>\n",
       "      <th>NumberOfOpenCreditLinesAndLoans</th>\n",
       "      <th>NumberOfTimes90DaysLate</th>\n",
       "      <th>NumberRealEstateLoansOrLines</th>\n",
       "      <th>NumberOfTime60-89DaysPastDueNotWorse</th>\n",
       "      <th>NumberOfDependents</th>\n",
       "    </tr>\n",
       "  </thead>\n",
       "  <tbody>\n",
       "    <tr>\n",
       "      <th>41944</th>\n",
       "      <td>41945</td>\n",
       "      <td>1</td>\n",
       "      <td>1.0</td>\n",
       "      <td>26.0</td>\n",
       "      <td>96</td>\n",
       "      <td>0.000000</td>\n",
       "      <td>4819.0</td>\n",
       "      <td>0</td>\n",
       "      <td>96</td>\n",
       "      <td>0</td>\n",
       "      <td>96</td>\n",
       "      <td>0.0</td>\n",
       "    </tr>\n",
       "    <tr>\n",
       "      <th>69478</th>\n",
       "      <td>69479</td>\n",
       "      <td>1</td>\n",
       "      <td>1.0</td>\n",
       "      <td>33.0</td>\n",
       "      <td>96</td>\n",
       "      <td>0.008047</td>\n",
       "      <td>4100.0</td>\n",
       "      <td>0</td>\n",
       "      <td>96</td>\n",
       "      <td>0</td>\n",
       "      <td>96</td>\n",
       "      <td>0.0</td>\n",
       "    </tr>\n",
       "    <tr>\n",
       "      <th>84167</th>\n",
       "      <td>84168</td>\n",
       "      <td>1</td>\n",
       "      <td>1.0</td>\n",
       "      <td>29.0</td>\n",
       "      <td>96</td>\n",
       "      <td>0.000000</td>\n",
       "      <td>2800.0</td>\n",
       "      <td>0</td>\n",
       "      <td>96</td>\n",
       "      <td>0</td>\n",
       "      <td>96</td>\n",
       "      <td>2.0</td>\n",
       "    </tr>\n",
       "    <tr>\n",
       "      <th>94106</th>\n",
       "      <td>94107</td>\n",
       "      <td>1</td>\n",
       "      <td>1.0</td>\n",
       "      <td>34.0</td>\n",
       "      <td>96</td>\n",
       "      <td>0.000000</td>\n",
       "      <td>3500.0</td>\n",
       "      <td>0</td>\n",
       "      <td>96</td>\n",
       "      <td>0</td>\n",
       "      <td>96</td>\n",
       "      <td>1.0</td>\n",
       "    </tr>\n",
       "    <tr>\n",
       "      <th>120049</th>\n",
       "      <td>120050</td>\n",
       "      <td>0</td>\n",
       "      <td>1.0</td>\n",
       "      <td>46.0</td>\n",
       "      <td>96</td>\n",
       "      <td>0.051765</td>\n",
       "      <td>4616.0</td>\n",
       "      <td>0</td>\n",
       "      <td>96</td>\n",
       "      <td>0</td>\n",
       "      <td>96</td>\n",
       "      <td>0.0</td>\n",
       "    </tr>\n",
       "  </tbody>\n",
       "</table>\n",
       "</div>"
      ],
      "text/plain": [
       "        Unnamed: 0  SeriousDlqin2yrs  RevolvingUtilizationOfUnsecuredLines  \\\n",
       "41944        41945                 1                                   1.0   \n",
       "69478        69479                 1                                   1.0   \n",
       "84167        84168                 1                                   1.0   \n",
       "94106        94107                 1                                   1.0   \n",
       "120049      120050                 0                                   1.0   \n",
       "\n",
       "         age  NumberOfTime30-59DaysPastDueNotWorse  DebtRatio  MonthlyIncome  \\\n",
       "41944   26.0                                    96   0.000000         4819.0   \n",
       "69478   33.0                                    96   0.008047         4100.0   \n",
       "84167   29.0                                    96   0.000000         2800.0   \n",
       "94106   34.0                                    96   0.000000         3500.0   \n",
       "120049  46.0                                    96   0.051765         4616.0   \n",
       "\n",
       "        NumberOfOpenCreditLinesAndLoans  NumberOfTimes90DaysLate  \\\n",
       "41944                                 0                       96   \n",
       "69478                                 0                       96   \n",
       "84167                                 0                       96   \n",
       "94106                                 0                       96   \n",
       "120049                                0                       96   \n",
       "\n",
       "        NumberRealEstateLoansOrLines  NumberOfTime60-89DaysPastDueNotWorse  \\\n",
       "41944                              0                                    96   \n",
       "69478                              0                                    96   \n",
       "84167                              0                                    96   \n",
       "94106                              0                                    96   \n",
       "120049                             0                                    96   \n",
       "\n",
       "        NumberOfDependents  \n",
       "41944                  0.0  \n",
       "69478                  0.0  \n",
       "84167                  2.0  \n",
       "94106                  1.0  \n",
       "120049                 0.0  "
      ]
     },
     "execution_count": 144,
     "metadata": {},
     "output_type": "execute_result"
    }
   ],
   "source": [
    "df[df['NumberOfTime30-59DaysPastDueNotWorse'] > 90].head()\n",
    "df[df['NumberOfTime30-59DaysPastDueNotWorse']==96].head()"
   ]
  },
  {
   "cell_type": "code",
   "execution_count": 173,
   "metadata": {},
   "outputs": [
    {
     "name": "stderr",
     "output_type": "stream",
     "text": [
      "/Users/Dennis/anaconda3/lib/python3.7/site-packages/ipykernel_launcher.py:9: FutureWarning: Method .as_matrix will be removed in a future version. Use .values instead.\n",
      "  if __name__ == '__main__':\n",
      "/Users/Dennis/anaconda3/lib/python3.7/site-packages/ipykernel_launcher.py:10: FutureWarning: Method .as_matrix will be removed in a future version. Use .values instead.\n",
      "  # Remove the CWD from sys.path while we load stuff.\n",
      "/Users/Dennis/anaconda3/lib/python3.7/site-packages/ipykernel_launcher.py:9: FutureWarning: Method .as_matrix will be removed in a future version. Use .values instead.\n",
      "  if __name__ == '__main__':\n",
      "/Users/Dennis/anaconda3/lib/python3.7/site-packages/ipykernel_launcher.py:10: FutureWarning: Method .as_matrix will be removed in a future version. Use .values instead.\n",
      "  # Remove the CWD from sys.path while we load stuff.\n",
      "/Users/Dennis/anaconda3/lib/python3.7/site-packages/ipykernel_launcher.py:9: FutureWarning: Method .as_matrix will be removed in a future version. Use .values instead.\n",
      "  if __name__ == '__main__':\n",
      "/Users/Dennis/anaconda3/lib/python3.7/site-packages/ipykernel_launcher.py:10: FutureWarning: Method .as_matrix will be removed in a future version. Use .values instead.\n",
      "  # Remove the CWD from sys.path while we load stuff.\n"
     ]
    }
   ],
   "source": [
    "def rf_transform_NumberOfTime(df ,col_order):\n",
    "    ls = [0,1,2,3,4,5,6,7,8,9,10,11]\n",
    "    del ls[col_order]\n",
    "    s = []\n",
    "    for i in ls:\n",
    "        s.append(i)\n",
    "    s.insert(0,col_order)\n",
    "    process_miss = df.iloc[:,s]\n",
    "    known = process_miss[df.iloc[:,col_order]<=90].as_matrix()\n",
    "    unknown = process_miss[df.iloc[:,col_order]>90].as_matrix()\n",
    "    X = known[:,1:]\n",
    "    Y = known[:,0]\n",
    "    \n",
    "    rf = RandomForestRegressor(random_state = 42,  n_estimators = 30 , max_depth = 3)\n",
    "    rf.fit(X,Y)\n",
    "    pred = rf.predict(unknown[:,1:]).round(0)\n",
    "    \n",
    "    df.loc[df.iloc[:,col_order]>90,df.columns[col_order]] = pred\n",
    "    return df\n",
    "need_to_transform_order = [4,8,10]\n",
    "for col in need_to_transform_order:\n",
    "    df = rf_transform_NumberOfTime(df,col)"
   ]
  },
  {
   "cell_type": "code",
   "execution_count": 178,
   "metadata": {},
   "outputs": [
    {
     "name": "stderr",
     "output_type": "stream",
     "text": [
      "'c' argument looks like a single numeric RGB or RGBA sequence, which should be avoided as value-mapping will have precedence in case its length matches with 'x' & 'y'.  Please use a 2-D array with a single row if you really want to specify the same RGB or RGBA value for all points.\n"
     ]
    },
    {
     "data": {
      "text/plain": [
       "<matplotlib.axes._subplots.AxesSubplot at 0x1a34b8ef28>"
      ]
     },
     "execution_count": 178,
     "metadata": {},
     "output_type": "execute_result"
    },
    {
     "data": {
      "image/png": "[encoded data removed]",
      "text/plain": [
       "<Figure size 1440x432 with 1 Axes>"
      ]
     },
     "metadata": {
      "needs_background": "light"
     },
     "output_type": "display_data"
    }
   ],
   "source": [
    "plt.figure(figsize = (20,6))\n",
    "plt.suptitle('收入分佈勘查')\n",
    "sns.boxenplot(df.MonthlyIncome)"
   ]
  },
  {
   "cell_type": "code",
   "execution_count": 182,
   "metadata": {},
   "outputs": [
    {
     "name": "stdout",
     "output_type": "stream",
     "text": [
      "12\n"
     ]
    },
    {
     "data": {
      "text/html": [
       "<div>\n",
       "<style scoped>\n",
       "    .dataframe tbody tr th:only-of-type {\n",
       "        vertical-align: middle;\n",
       "    }\n",
       "\n",
       "    .dataframe tbody tr th {\n",
       "        vertical-align: top;\n",
       "    }\n",
       "\n",
       "    .dataframe thead th {\n",
       "        text-align: right;\n",
       "    }\n",
       "</style>\n",
       "<table border=\"1\" class=\"dataframe\">\n",
       "  <thead>\n",
       "    <tr style=\"text-align: right;\">\n",
       "      <th></th>\n",
       "      <th>Unnamed: 0</th>\n",
       "      <th>SeriousDlqin2yrs</th>\n",
       "      <th>RevolvingUtilizationOfUnsecuredLines</th>\n",
       "      <th>age</th>\n",
       "      <th>NumberOfTime30-59DaysPastDueNotWorse</th>\n",
       "      <th>DebtRatio</th>\n",
       "      <th>MonthlyIncome</th>\n",
       "      <th>NumberOfOpenCreditLinesAndLoans</th>\n",
       "      <th>NumberOfTimes90DaysLate</th>\n",
       "      <th>NumberRealEstateLoansOrLines</th>\n",
       "      <th>NumberOfTime60-89DaysPastDueNotWorse</th>\n",
       "      <th>NumberOfDependents</th>\n",
       "    </tr>\n",
       "  </thead>\n",
       "  <tbody>\n",
       "    <tr>\n",
       "      <th>35973</th>\n",
       "      <td>35974</td>\n",
       "      <td>0</td>\n",
       "      <td>0.439684</td>\n",
       "      <td>64.0</td>\n",
       "      <td>0.0</td>\n",
       "      <td>0.004003</td>\n",
       "      <td>582369.0</td>\n",
       "      <td>11</td>\n",
       "      <td>0.0</td>\n",
       "      <td>0</td>\n",
       "      <td>0.0</td>\n",
       "      <td>1.0</td>\n",
       "    </tr>\n",
       "    <tr>\n",
       "      <th>37078</th>\n",
       "      <td>37079</td>\n",
       "      <td>0</td>\n",
       "      <td>0.000000</td>\n",
       "      <td>83.0</td>\n",
       "      <td>0.0</td>\n",
       "      <td>0.000000</td>\n",
       "      <td>629000.0</td>\n",
       "      <td>3</td>\n",
       "      <td>0.0</td>\n",
       "      <td>0</td>\n",
       "      <td>0.0</td>\n",
       "      <td>0.0</td>\n",
       "    </tr>\n",
       "    <tr>\n",
       "      <th>50640</th>\n",
       "      <td>50641</td>\n",
       "      <td>0</td>\n",
       "      <td>0.469025</td>\n",
       "      <td>44.0</td>\n",
       "      <td>1.0</td>\n",
       "      <td>0.004537</td>\n",
       "      <td>1072500.0</td>\n",
       "      <td>9</td>\n",
       "      <td>0.0</td>\n",
       "      <td>2</td>\n",
       "      <td>0.0</td>\n",
       "      <td>1.0</td>\n",
       "    </tr>\n",
       "    <tr>\n",
       "      <th>73763</th>\n",
       "      <td>73764</td>\n",
       "      <td>0</td>\n",
       "      <td>0.007328</td>\n",
       "      <td>52.0</td>\n",
       "      <td>0.0</td>\n",
       "      <td>0.001470</td>\n",
       "      <td>3008750.0</td>\n",
       "      <td>10</td>\n",
       "      <td>0.0</td>\n",
       "      <td>1</td>\n",
       "      <td>0.0</td>\n",
       "      <td>3.0</td>\n",
       "    </tr>\n",
       "    <tr>\n",
       "      <th>93564</th>\n",
       "      <td>93565</td>\n",
       "      <td>0</td>\n",
       "      <td>0.071628</td>\n",
       "      <td>50.0</td>\n",
       "      <td>0.0</td>\n",
       "      <td>0.008268</td>\n",
       "      <td>702500.0</td>\n",
       "      <td>12</td>\n",
       "      <td>0.0</td>\n",
       "      <td>4</td>\n",
       "      <td>0.0</td>\n",
       "      <td>2.0</td>\n",
       "    </tr>\n",
       "    <tr>\n",
       "      <th>96549</th>\n",
       "      <td>96550</td>\n",
       "      <td>0</td>\n",
       "      <td>0.064155</td>\n",
       "      <td>52.0</td>\n",
       "      <td>0.0</td>\n",
       "      <td>0.003698</td>\n",
       "      <td>699530.0</td>\n",
       "      <td>11</td>\n",
       "      <td>0.0</td>\n",
       "      <td>2</td>\n",
       "      <td>0.0</td>\n",
       "      <td>1.0</td>\n",
       "    </tr>\n",
       "    <tr>\n",
       "      <th>111365</th>\n",
       "      <td>111366</td>\n",
       "      <td>0</td>\n",
       "      <td>0.163856</td>\n",
       "      <td>44.0</td>\n",
       "      <td>0.0</td>\n",
       "      <td>0.004013</td>\n",
       "      <td>1560100.0</td>\n",
       "      <td>12</td>\n",
       "      <td>0.0</td>\n",
       "      <td>4</td>\n",
       "      <td>0.0</td>\n",
       "      <td>2.0</td>\n",
       "    </tr>\n",
       "    <tr>\n",
       "      <th>119136</th>\n",
       "      <td>119137</td>\n",
       "      <td>0</td>\n",
       "      <td>0.151329</td>\n",
       "      <td>49.0</td>\n",
       "      <td>0.0</td>\n",
       "      <td>0.001313</td>\n",
       "      <td>649587.0</td>\n",
       "      <td>8</td>\n",
       "      <td>0.0</td>\n",
       "      <td>0</td>\n",
       "      <td>1.0</td>\n",
       "      <td>3.0</td>\n",
       "    </tr>\n",
       "    <tr>\n",
       "      <th>122543</th>\n",
       "      <td>122544</td>\n",
       "      <td>0</td>\n",
       "      <td>0.041599</td>\n",
       "      <td>55.0</td>\n",
       "      <td>0.0</td>\n",
       "      <td>0.000147</td>\n",
       "      <td>835040.0</td>\n",
       "      <td>8</td>\n",
       "      <td>0.0</td>\n",
       "      <td>0</td>\n",
       "      <td>0.0</td>\n",
       "      <td>0.0</td>\n",
       "    </tr>\n",
       "    <tr>\n",
       "      <th>123291</th>\n",
       "      <td>123292</td>\n",
       "      <td>0</td>\n",
       "      <td>0.226333</td>\n",
       "      <td>67.0</td>\n",
       "      <td>1.0</td>\n",
       "      <td>0.005570</td>\n",
       "      <td>730483.0</td>\n",
       "      <td>23</td>\n",
       "      <td>0.0</td>\n",
       "      <td>1</td>\n",
       "      <td>0.0</td>\n",
       "      <td>0.0</td>\n",
       "    </tr>\n",
       "    <tr>\n",
       "      <th>137140</th>\n",
       "      <td>137141</td>\n",
       "      <td>0</td>\n",
       "      <td>0.000000</td>\n",
       "      <td>68.0</td>\n",
       "      <td>0.0</td>\n",
       "      <td>0.002776</td>\n",
       "      <td>1794060.0</td>\n",
       "      <td>15</td>\n",
       "      <td>0.0</td>\n",
       "      <td>1</td>\n",
       "      <td>0.0</td>\n",
       "      <td>0.0</td>\n",
       "    </tr>\n",
       "    <tr>\n",
       "      <th>137426</th>\n",
       "      <td>137427</td>\n",
       "      <td>0</td>\n",
       "      <td>0.079804</td>\n",
       "      <td>61.0</td>\n",
       "      <td>0.0</td>\n",
       "      <td>0.001547</td>\n",
       "      <td>562466.0</td>\n",
       "      <td>7</td>\n",
       "      <td>0.0</td>\n",
       "      <td>0</td>\n",
       "      <td>0.0</td>\n",
       "      <td>1.0</td>\n",
       "    </tr>\n",
       "  </tbody>\n",
       "</table>\n",
       "</div>"
      ],
      "text/plain": [
       "        Unnamed: 0  SeriousDlqin2yrs  RevolvingUtilizationOfUnsecuredLines  \\\n",
       "35973        35974                 0                              0.439684   \n",
       "37078        37079                 0                              0.000000   \n",
       "50640        50641                 0                              0.469025   \n",
       "73763        73764                 0                              0.007328   \n",
       "93564        93565                 0                              0.071628   \n",
       "96549        96550                 0                              0.064155   \n",
       "111365      111366                 0                              0.163856   \n",
       "119136      119137                 0                              0.151329   \n",
       "122543      122544                 0                              0.041599   \n",
       "123291      123292                 0                              0.226333   \n",
       "137140      137141                 0                              0.000000   \n",
       "137426      137427                 0                              0.079804   \n",
       "\n",
       "         age  NumberOfTime30-59DaysPastDueNotWorse  DebtRatio  MonthlyIncome  \\\n",
       "35973   64.0                                   0.0   0.004003       582369.0   \n",
       "37078   83.0                                   0.0   0.000000       629000.0   \n",
       "50640   44.0                                   1.0   0.004537      1072500.0   \n",
       "73763   52.0                                   0.0   0.001470      3008750.0   \n",
       "93564   50.0                                   0.0   0.008268       702500.0   \n",
       "96549   52.0                                   0.0   0.003698       699530.0   \n",
       "111365  44.0                                   0.0   0.004013      1560100.0   \n",
       "119136  49.0                                   0.0   0.001313       649587.0   \n",
       "122543  55.0                                   0.0   0.000147       835040.0   \n",
       "123291  67.0                                   1.0   0.005570       730483.0   \n",
       "137140  68.0                                   0.0   0.002776      1794060.0   \n",
       "137426  61.0                                   0.0   0.001547       562466.0   \n",
       "\n",
       "        NumberOfOpenCreditLinesAndLoans  NumberOfTimes90DaysLate  \\\n",
       "35973                                11                      0.0   \n",
       "37078                                 3                      0.0   \n",
       "50640                                 9                      0.0   \n",
       "73763                                10                      0.0   \n",
       "93564                                12                      0.0   \n",
       "96549                                11                      0.0   \n",
       "111365                               12                      0.0   \n",
       "119136                                8                      0.0   \n",
       "122543                                8                      0.0   \n",
       "123291                               23                      0.0   \n",
       "137140                               15                      0.0   \n",
       "137426                                7                      0.0   \n",
       "\n",
       "        NumberRealEstateLoansOrLines  NumberOfTime60-89DaysPastDueNotWorse  \\\n",
       "35973                              0                                   0.0   \n",
       "37078                              0                                   0.0   \n",
       "50640                              2                                   0.0   \n",
       "73763                              1                                   0.0   \n",
       "93564                              4                                   0.0   \n",
       "96549                              2                                   0.0   \n",
       "111365                             4                                   0.0   \n",
       "119136                             0                                   1.0   \n",
       "122543                             0                                   0.0   \n",
       "123291                             1                                   0.0   \n",
       "137140                             1                                   0.0   \n",
       "137426                             0                                   0.0   \n",
       "\n",
       "        NumberOfDependents  \n",
       "35973                  1.0  \n",
       "37078                  0.0  \n",
       "50640                  1.0  \n",
       "73763                  3.0  \n",
       "93564                  2.0  \n",
       "96549                  1.0  \n",
       "111365                 2.0  \n",
       "119136                 3.0  \n",
       "122543                 0.0  \n",
       "123291                 0.0  \n",
       "137140                 0.0  \n",
       "137426                 1.0  "
      ]
     },
     "execution_count": 182,
     "metadata": {},
     "output_type": "execute_result"
    }
   ],
   "source": [
    "print(len(df[df.MonthlyIncome>500000]))\n",
    "df[df.MonthlyIncome>500000]"
   ]
  },
  {
   "cell_type": "markdown",
   "metadata": {},
   "source": [
    "由於有人薪水太高，會對建模產生很大的影響，加上資料數12筆，我們可以用500000替代他們"
   ]
  },
  {
   "cell_type": "code",
   "execution_count": 185,
   "metadata": {},
   "outputs": [
    {
     "name": "stderr",
     "output_type": "stream",
     "text": [
      "/Users/Dennis/anaconda3/lib/python3.7/site-packages/ipykernel_launcher.py:1: SettingWithCopyWarning: \n",
      "A value is trying to be set on a copy of a slice from a DataFrame\n",
      "\n",
      "See the caveats in the documentation: http://pandas.pydata.org/pandas-docs/stable/indexing.html#indexing-view-versus-copy\n",
      "  \"\"\"Entry point for launching an IPython kernel.\n"
     ]
    }
   ],
   "source": [
    "df.MonthlyIncome[df.MonthlyIncome > 500000] = 500000"
   ]
  },
  {
   "cell_type": "code",
   "execution_count": 190,
   "metadata": {},
   "outputs": [
    {
     "data": {
      "text/plain": [
       "<matplotlib.axes._subplots.AxesSubplot at 0x1a319e3f28>"
      ]
     },
     "execution_count": 190,
     "metadata": {},
     "output_type": "execute_result"
    },
    {
     "data": {
      "image/png": "[encoded data removed]",
      "text/plain": [
       "<Figure size 432x576 with 1 Axes>"
      ]
     },
     "metadata": {
      "needs_background": "light"
     },
     "output_type": "display_data"
    }
   ],
   "source": [
    "plt.figure(figsize = (6,8))\n",
    "plt.suptitle('我們的資料明顯很不平均',fontsize = 15)\n",
    "sns.countplot(df.SeriousDlqin2yrs)"
   ]
  },
  {
   "cell_type": "code",
   "execution_count": 202,
   "metadata": {},
   "outputs": [
    {
     "name": "stdout",
     "output_type": "stream",
     "text": [
      "不良客戶佔比： 6.683999999999999 %\n"
     ]
    }
   ],
   "source": [
    "target = df.groupby(df.SeriousDlqin2yrs).SeriousDlqin2yrs.count()\n",
    "print('不良客戶佔比：' , ((target[1]/ (target[0] + target[1]).round(2)))*100 , '%')"
   ]
  },
  {
   "cell_type": "markdown",
   "metadata": {},
   "source": [
    "這筆資料是相當imbalance的，如果是關心信用卡欺詐，那麼不平衡的數據集就沒有重新採樣的必要，但是這次的題目是：<b>This competition requires participants to improve on the state of the art in credit scoring, by predicting the probability that somebody will experience financial distress in the next two years.</b>\n",
    "也就是個人是否經歷過嚴重的拖欠行為，所以我們要泛化到大眾身上"
   ]
  },
  {
   "cell_type": "markdown",
   "metadata": {},
   "source": [
    "# 特徵工程"
   ]
  },
  {
   "cell_type": "code",
   "execution_count": 204,
   "metadata": {},
   "outputs": [
    {
     "data": {
      "text/plain": [
       "<matplotlib.axes._subplots.AxesSubplot at 0x1a36461ef0>"
      ]
     },
     "execution_count": 204,
     "metadata": {},
     "output_type": "execute_result"
    },
    {
     "data": {
      "image/png": "[encoded data removed]",
      "text/plain": [
       "<Figure size 1080x1080 with 2 Axes>"
      ]
     },
     "metadata": {
      "needs_background": "light"
     },
     "output_type": "display_data"
    }
   ],
   "source": [
    "corr = df.corr()\n",
    "plt.figure(figsize= (15,15))\n",
    "sns.heatmap(corr ,annot=True , cmap=\"YlGnBu\")"
   ]
  },
  {
   "cell_type": "markdown",
   "metadata": {},
   "source": [
    "各個變量的相關性都不高，所以初步判斷應該沒有多重共線性的問題"
   ]
  },
  {
   "cell_type": "code",
   "execution_count": 364,
   "metadata": {},
   "outputs": [
    {
     "name": "stderr",
     "output_type": "stream",
     "text": [
      "/Users/Dennis/anaconda3/lib/python3.7/site-packages/sklearn/model_selection/_split.py:2179: FutureWarning: From version 0.21, test_size will always complement train_size unless both are specified.\n",
      "  FutureWarning)\n"
     ]
    }
   ],
   "source": [
    "from sklearn.model_selection import train_test_split\n",
    "\n",
    "Y = df.SeriousDlqin2yrs\n",
    "X = df.iloc[:,1:]\n",
    "x_train , x_test , y_train , y_test = train_test_split(X,Y ,train_size = 0.8 , random_state = 42)\n",
    "train = pd.concat([y_train,x_train],axis = 1)\n",
    "test = pd.concat([y_test , x_test],axis =  1)\n",
    "train = train.reset_index(drop = True)\n",
    "test = test.reset_index(drop = True)"
   ]
  },
  {
   "cell_type": "code",
   "execution_count": 209,
   "metadata": {},
   "outputs": [],
   "source": [
    "import scipy.stats as stats\n",
    "def monoto_bin(Y, X, n):\n",
    "    r = 0\n",
    "    total_good = Y.sum()\n",
    "    total_bad =Y.count()-total_good\n",
    "    while np.abs(r) < 1:\n",
    "        d1 = pd.DataFrame({\"X\": X, \"Y\": Y, \"Bucket\": pd.qcut(X, n)})\n",
    "        d2 = d1.groupby('Bucket', as_index = True)\n",
    "        r, p = stats.spearmanr(d2.mean().X, d2.mean().Y)\n",
    "        n = n - 1\n",
    "    d3 = pd.DataFrame(d2.min().X, columns = ['min_' + X.name])\n",
    "    d3['min_' + X.name] = d2.min().X\n",
    "    d3['max_' + X.name] = d2.max().X\n",
    "    d3[Y.name] = d2.sum().Y\n",
    "    d3['total'] = d2.count().Y\n",
    "    d3['goodattr']=d3[Y.name]/total_good\n",
    "    d3['badattr']=(d3['total']-d3[Y.name])/total_bad\n",
    "    d3['woe'] = np.log(d3['goodattr']/d3['badattr'])\n",
    "    iv = ((d3['goodattr']-d3['badattr'])*d3['woe']).sum()\n",
    "    d4 = (d3.sort_values(by = 'min_' + X.name)).reset_index(drop = True)\n",
    "    print (\"=\" * 80)\n",
    "    print (d4)\n",
    "    cut = []\n",
    "    cut.append(float('-inf'))\n",
    "    for i in range(1,n+1):\n",
    "        qua =X.quantile(i/(n+1))\n",
    "        cut.append(round(qua,4))\n",
    "    cut.append(float('inf'))\n",
    "    woe = list(d4['woe'].round(3))\n",
    "    return d4,iv,cut,woe\n",
    "data = df"
   ]
  },
  {
   "cell_type": "code",
   "execution_count": 211,
   "metadata": {},
   "outputs": [
    {
     "name": "stdout",
     "output_type": "stream",
     "text": [
      "================================================================================\n",
      "   min_RevolvingUtilizationOfUnsecuredLines  \\\n",
      "0                                  0.000000   \n",
      "1                                  0.029868   \n",
      "2                                  0.154186   \n",
      "3                                  0.559053   \n",
      "\n",
      "   max_RevolvingUtilizationOfUnsecuredLines  SeriousDlqin2yrs  total  \\\n",
      "0                                  0.029866               690  37500   \n",
      "1                                  0.154176               745  37500   \n",
      "2                                  0.559044              1888  37500   \n",
      "3                              50708.000000              6703  37500   \n",
      "\n",
      "   goodattr   badattr       woe  \n",
      "0  0.068821  0.262977 -1.340558  \n",
      "1  0.074307  0.262584 -1.262370  \n",
      "2  0.188310  0.254419 -0.300890  \n",
      "3  0.668562  0.220019  1.111413  \n",
      "================================================================================\n",
      "   min_age  max_age  SeriousDlqin2yrs  total  goodattr   badattr       woe\n",
      "0     21.0     33.0              1940  17085  0.193497  0.108199  0.581293\n",
      "1     34.0     40.0              1694  18012  0.168961  0.116579  0.371099\n",
      "2     41.0     45.0              1385  16208  0.138141  0.105898  0.265795\n",
      "3     46.0     50.0              1508  18829  0.150409  0.123744  0.195140\n",
      "4     51.0     54.0              1058  14445  0.105526  0.095639  0.098371\n",
      "5     55.0     59.0               941  17103  0.093856  0.115464 -0.207200\n",
      "6     60.0     64.0               718  17125  0.071614  0.117215 -0.492719\n",
      "7     65.0     71.0               426  15203  0.042490  0.105570 -0.910113\n",
      "8     72.0     99.0               356  15990  0.035508  0.111692 -1.145998\n",
      "================================================================================\n",
      "   min_DebtRatio  max_DebtRatio  SeriousDlqin2yrs  total  goodattr   badattr  \\\n",
      "0       0.000000       0.238186              3019  50000  0.301117  0.335641   \n",
      "1       0.238196       0.569935              3177  50000  0.316876  0.334512   \n",
      "2       0.569946  329664.000000              3830  50000  0.382007  0.329847   \n",
      "\n",
      "        woe  \n",
      "0 -0.108543  \n",
      "1 -0.054162  \n",
      "2  0.146810  \n"
     ]
    }
   ],
   "source": [
    "\n",
    "dfx1,ivx1,cutx1,woex1 = monoto_bin(data['SeriousDlqin2yrs'],data['RevolvingUtilizationOfUnsecuredLines'],n = 10)\n",
    "dfx2,ivx2,cutx2,woex2 = monoto_bin(data['SeriousDlqin2yrs'],data['age'],n = 10)\n",
    "dfx4,ivx4,cutx4,woex4 = monoto_bin(data['SeriousDlqin2yrs'],data['DebtRatio'],n = 10)"
   ]
  },
  {
   "cell_type": "code",
   "execution_count": 212,
   "metadata": {},
   "outputs": [],
   "source": [
    "def self_bin(Y,X,cat):\n",
    "    good=Y.sum()\n",
    "    bad=Y.count()-good\n",
    "    d1=pd.DataFrame({'X':X,'Y':Y,'Bucket':pd.cut(X,cat)})\n",
    "    d2=d1.groupby('Bucket', as_index = True)\n",
    "    d3 = pd.DataFrame(d2.X.min(), columns=['min'])\n",
    "    d3['min'] = d2.min().X\n",
    "    d3['max'] = d2.max().X\n",
    "    d3['sum'] = d2.sum().Y\n",
    "    d3['total'] = d2.count().Y\n",
    "    d3['rate'] = d2.mean().Y\n",
    "    d3['woe'] = np.log((d3['rate'] / (1 - d3['rate'])) / (good / bad))\n",
    "    d3['goodattribute'] = d3['sum'] / good\n",
    "    d3['badattribute'] = (d3['total'] - d3['sum']) / bad\n",
    "    iv = ((d3['goodattribute'] - d3['badattribute']) * d3['woe']).sum()\n",
    "    d4 = (d3.sort_index(by='min'))\n",
    "    print(\"=\" * 60)\n",
    "    print(d4)\n",
    "    woe = list(d4['woe'].round(3))\n",
    "    return d4, iv,woe"
   ]
  },
  {
   "cell_type": "code",
   "execution_count": 213,
   "metadata": {},
   "outputs": [
    {
     "name": "stderr",
     "output_type": "stream",
     "text": [
      "/Users/Dennis/anaconda3/lib/python3.7/site-packages/ipykernel_launcher.py:16: FutureWarning: by argument to sort_index is deprecated, please use .sort_values(by=...)\n",
      "  app.launch_new_instance()\n",
      "/Users/Dennis/anaconda3/lib/python3.7/site-packages/ipykernel_launcher.py:16: FutureWarning: by argument to sort_index is deprecated, please use .sort_values(by=...)\n",
      "  app.launch_new_instance()\n",
      "/Users/Dennis/anaconda3/lib/python3.7/site-packages/ipykernel_launcher.py:16: FutureWarning: by argument to sort_index is deprecated, please use .sort_values(by=...)\n",
      "  app.launch_new_instance()\n",
      "/Users/Dennis/anaconda3/lib/python3.7/site-packages/ipykernel_launcher.py:16: FutureWarning: by argument to sort_index is deprecated, please use .sort_values(by=...)\n",
      "  app.launch_new_instance()\n",
      "/Users/Dennis/anaconda3/lib/python3.7/site-packages/ipykernel_launcher.py:16: FutureWarning: by argument to sort_index is deprecated, please use .sort_values(by=...)\n",
      "  app.launch_new_instance()\n",
      "/Users/Dennis/anaconda3/lib/python3.7/site-packages/ipykernel_launcher.py:16: FutureWarning: by argument to sort_index is deprecated, please use .sort_values(by=...)\n",
      "  app.launch_new_instance()\n"
     ]
    },
    {
     "name": "stdout",
     "output_type": "stream",
     "text": [
      "============================================================\n",
      "             min   max   sum   total      rate       woe  goodattribute  \\\n",
      "Bucket                                                                    \n",
      "(-inf, 0.0]  0.0   0.0  5041  126018  0.040002 -0.541721       0.502793   \n",
      "(0.0, 1.0]   1.0   1.0  2556   16302  0.156791  0.953971       0.254937   \n",
      "(1.0, 3.0]   2.0   3.0  1837    6352  0.289200  1.737004       0.183224   \n",
      "(3.0, 5.0]   4.0   5.0   472    1089  0.433425  2.368385       0.047078   \n",
      "(5.0, inf]   6.0  13.0   120     239  0.502092  2.644643       0.011969   \n",
      "\n",
      "             badattribute  \n",
      "Bucket                     \n",
      "(-inf, 0.0]      0.864282  \n",
      "(0.0, 1.0]       0.098204  \n",
      "(1.0, 3.0]       0.032256  \n",
      "(3.0, 5.0]       0.004408  \n",
      "(5.0, inf]       0.000850  \n",
      "============================================================\n",
      "                       min       max   sum  total      rate       woe  \\\n",
      "Bucket                                                                  \n",
      "(-inf, 1000.0]         0.0    1000.0   247   4795  0.051512 -0.276780   \n",
      "(1000.0, 2000.0]    1001.0    2000.0  1623  18139  0.089476  0.316222   \n",
      "(2000.0, 3000.0]    2001.0    3000.0  1652  23902  0.069116  0.035920   \n",
      "(3000.0, 4000.0]    3001.0    4000.0  1349  15314  0.088089  0.299084   \n",
      "(4000.0, 5000.0]    4001.0    5000.0  1231  15753  0.078144  0.168437   \n",
      "(5000.0, 6000.0]    5001.0    6000.0   983  14545  0.067583  0.011857   \n",
      "(6000.0, 7500.0]    6001.0    7500.0   944  15442  0.061132 -0.095365   \n",
      "(7500.0, 9500.0]    7501.0    9500.0  1038  20400  0.050882 -0.289742   \n",
      "(9500.0, 12000.0]   9501.0   12000.0   470  10968  0.042852 -0.469932   \n",
      "(12000.0, inf]     12001.0  500000.0   489  10742  0.045522 -0.406688   \n",
      "\n",
      "                   goodattribute  badattribute  \n",
      "Bucket                                          \n",
      "(-inf, 1000.0]          0.024636      0.032492  \n",
      "(1000.0, 2000.0]        0.161879      0.117993  \n",
      "(2000.0, 3000.0]        0.164772      0.158958  \n",
      "(3000.0, 4000.0]        0.134550      0.099769  \n",
      "(4000.0, 5000.0]        0.122781      0.103748  \n",
      "(5000.0, 6000.0]        0.098045      0.096889  \n",
      "(6000.0, 7500.0]        0.094155      0.103576  \n",
      "(7500.0, 9500.0]        0.103531      0.138326  \n",
      "(9500.0, 12000.0]       0.046878      0.075000  \n",
      "(12000.0, inf]          0.048773      0.073249  \n",
      "============================================================\n",
      "             min  max   sum   total      rate       woe  goodattribute  \\\n",
      "Bucket                                                                   \n",
      "(-inf, 1.0]    0    1  1069    6326  0.168985  1.043438       0.106623   \n",
      "(1.0, 2.0]     2    2   609    6666  0.091359  0.339123       0.060742   \n",
      "(2.0, 3.0]     3    3   682    9058  0.075293  0.128179       0.068023   \n",
      "(3.0, 5.0]     4    5  1562   24540  0.063651 -0.052295       0.155795   \n",
      "(5.0, inf]     6   58  6104  103410  0.059027 -0.132641       0.608817   \n",
      "\n",
      "             badattribute  \n",
      "Bucket                     \n",
      "(-inf, 1.0]      0.037557  \n",
      "(1.0, 2.0]       0.043272  \n",
      "(2.0, 3.0]       0.059840  \n",
      "(3.0, 5.0]       0.164159  \n",
      "(5.0, inf]       0.695172  \n",
      "============================================================\n",
      "             min   max   sum   total      rate       woe  goodattribute  \\\n",
      "Bucket                                                                    \n",
      "(-inf, 0.0]  0.0   0.0  6554  141662  0.046265 -0.389724       0.653700   \n",
      "(0.0, 1.0]   1.0   1.0  1912    5512  0.346880  2.003491       0.190704   \n",
      "(1.0, 3.0]   2.0   3.0  1161    2222  0.522502  2.726345       0.115799   \n",
      "(3.0, 5.0]   4.0   5.0   278     422  0.658768  3.294083       0.027728   \n",
      "(5.0, inf]   6.0  17.0   121     182  0.664835  3.321192       0.012069   \n",
      "\n",
      "             badattribute  \n",
      "Bucket                     \n",
      "(-inf, 0.0]      0.965236  \n",
      "(0.0, 1.0]       0.025719  \n",
      "(1.0, 3.0]       0.007580  \n",
      "(3.0, 5.0]       0.001029  \n",
      "(5.0, inf]       0.000436  \n",
      "============================================================\n",
      "             min  max   sum  total      rate       woe  goodattribute  \\\n",
      "Bucket                                                                  \n",
      "(-inf, 0.0]    0    0  4672  56188  0.083149  0.235970       0.465988   \n",
      "(0.0, 1.0]     1    1  2748  52338  0.052505 -0.256641       0.274087   \n",
      "(1.0, 2.0]     2    2  1765  31522  0.055993 -0.188639       0.176042   \n",
      "(2.0, 3.0]     3    3   422   6300  0.066984  0.002308       0.042091   \n",
      "(3.0, inf]     4   54   419   3652  0.114732  0.592980       0.041791   \n",
      "\n",
      "             badattribute  \n",
      "Bucket                     \n",
      "(-inf, 0.0]      0.368040  \n",
      "(0.0, 1.0]       0.354280  \n",
      "(1.0, 2.0]       0.212589  \n",
      "(2.0, 3.0]       0.041994  \n",
      "(3.0, inf]       0.023097  \n",
      "============================================================\n",
      "             min   max   sum   total      rate       woe  goodattribute  \\\n",
      "Bucket                                                                    \n",
      "(-inf, 0.0]  0.0   0.0  7403  142665  0.051891 -0.269053       0.738380   \n",
      "(0.0, 1.0]   1.0   1.0  1777    5731  0.310068  1.836474       0.177239   \n",
      "(1.0, 3.0]   2.0   3.0   741    1436  0.516017  2.700364       0.073908   \n",
      "(3.0, inf]   4.0  11.0   105     168  0.625000  3.147101       0.010473   \n",
      "\n",
      "             badattribute  \n",
      "Bucket                     \n",
      "(-inf, 0.0]      0.966337  \n",
      "(0.0, 1.0]       0.028248  \n",
      "(1.0, 3.0]       0.004965  \n",
      "(3.0, inf]       0.000450  \n",
      "============================================================\n",
      "             min   max   sum  total      rate       woe  goodattribute  \\\n",
      "Bucket                                                                   \n",
      "(-inf, 0.0]  0.0   0.0  5273  90731  0.058117 -0.149151       0.525933   \n",
      "(0.0, 1.0]   1.0   1.0  1935  26352  0.073429  0.101103       0.192998   \n",
      "(1.0, 2.0]   2.0   2.0  1584  19554  0.081006  0.207525       0.157989   \n",
      "(2.0, 3.0]   3.0   3.0   838   9507  0.088146  0.299784       0.083583   \n",
      "(3.0, 5.0]   4.0   5.0   365   3611  0.101080  0.450994       0.036405   \n",
      "(5.0, inf]   6.0  20.0    31    245  0.126531  0.704286       0.003092   \n",
      "\n",
      "             badattribute  \n",
      "Bucket                     \n",
      "(-inf, 0.0]      0.610528  \n",
      "(0.0, 1.0]       0.174440  \n",
      "(1.0, 2.0]       0.128381  \n",
      "(2.0, 3.0]       0.061933  \n",
      "(3.0, 5.0]       0.023190  \n",
      "(5.0, inf]       0.001529  \n"
     ]
    },
    {
     "name": "stderr",
     "output_type": "stream",
     "text": [
      "/Users/Dennis/anaconda3/lib/python3.7/site-packages/ipykernel_launcher.py:16: FutureWarning: by argument to sort_index is deprecated, please use .sort_values(by=...)\n",
      "  app.launch_new_instance()\n"
     ]
    }
   ],
   "source": [
    "pinf = float('inf')\n",
    "ninf = float('-inf')\n",
    "cutx3 = [ninf, 0, 1, 3, 5, pinf]\n",
    "cutx5 = [ninf,1000,2000,3000,4000,5000,6000,7500,9500,12000,pinf]\n",
    "cutx6 = [ninf, 1, 2, 3, 5, pinf]\n",
    "cutx7 = [ninf, 0, 1, 3, 5, pinf]\n",
    "cutx8 = [ninf, 0,1,2, 3, pinf]\n",
    "cutx9 = [ninf, 0, 1, 3, pinf]\n",
    "cutx10 = [ninf, 0, 1, 2, 3, 5, pinf]\n",
    "dfx3, ivx3,woex3 = self_bin(data['SeriousDlqin2yrs'],data['NumberOfTime30-59DaysPastDueNotWorse'],cutx3)\n",
    "dfx5, ivx5,woex5 = self_bin(data['SeriousDlqin2yrs'],data['MonthlyIncome'],cutx5)\n",
    "dfx6, ivx6,woex6 = self_bin(data['SeriousDlqin2yrs'],data['NumberOfOpenCreditLinesAndLoans'],cutx6) \n",
    "dfx7, ivx7,woex7 = self_bin(data['SeriousDlqin2yrs'],data['NumberOfTimes90DaysLate'],cutx7)\n",
    "dfx8, ivx8,woex8 = self_bin(data['SeriousDlqin2yrs'],data['NumberRealEstateLoansOrLines'],cutx8) \n",
    "dfx9, ivx9,woex9 = self_bin(data['SeriousDlqin2yrs'],data['NumberOfTime60-89DaysPastDueNotWorse'],cutx9)\n",
    "dfx10, ivx10,woex10 = self_bin(data['SeriousDlqin2yrs'],data['NumberOfDependents'],cutx10)"
   ]
  },
  {
   "cell_type": "markdown",
   "metadata": {},
   "source": [
    "<em> IV=sum((goodattr-badatt)*ln(goodattr/badattr))=sum((goodattr-badattr)*ln(WOE))\n",
    "用來確定自變量的預測能力"
   ]
  },
  {
   "cell_type": "code",
   "execution_count": 217,
   "metadata": {},
   "outputs": [
    {
     "data": {
      "image/png": "[encoded data removed]",
      "text/plain": [
       "<Figure size 1440x576 with 1 Axes>"
      ]
     },
     "metadata": {
      "needs_background": "light"
     },
     "output_type": "display_data"
    }
   ],
   "source": [
    "ivlist=[ivx1,ivx2,ivx3,ivx4,ivx5,ivx6,ivx7,ivx8,ivx9,ivx10] #各個變量的iv\n",
    "index=['x1','x2','x3','x4','x5','x6','x7','x8','x9','x10']\n",
    "fig1 = plt.figure(1,figsize = (20,8))\n",
    "ax1 = fig1.add_subplot(1, 1, 1)\n",
    "x = np.arange(len(index))+1 #設置個數\n",
    "ax1.bar(x, ivlist, width=0.4)#生成柱狀圖\n",
    "ax1.set_xticks(x) \n",
    "ax1.set_xticklabels(index, rotation=0, fontsize=12)\n",
    "ax1.set_ylabel('IV(Information Value)', fontsize=14)\n",
    "\n",
    "for a, b in zip(x, ivlist):\n",
    "    plt.text(a, b + 0.01, '%.4f' % b, ha = 'center', va = 'bottom', fontsize = 10)\n",
    "plt.suptitle('IV>0.5的feature代表對模型的預測比較有貢獻', fontsize = 25)\n",
    "plt.show()"
   ]
  },
  {
   "cell_type": "code",
   "execution_count": 351,
   "metadata": {},
   "outputs": [
    {
     "data": {
      "text/html": [
       "<div>\n",
       "<style scoped>\n",
       "    .dataframe tbody tr th:only-of-type {\n",
       "        vertical-align: middle;\n",
       "    }\n",
       "\n",
       "    .dataframe tbody tr th {\n",
       "        vertical-align: top;\n",
       "    }\n",
       "\n",
       "    .dataframe thead th {\n",
       "        text-align: right;\n",
       "    }\n",
       "</style>\n",
       "<table border=\"1\" class=\"dataframe\">\n",
       "  <thead>\n",
       "    <tr style=\"text-align: right;\">\n",
       "      <th></th>\n",
       "      <th>SeriousDlqin2yrs</th>\n",
       "      <th>SeriousDlqin2yrs</th>\n",
       "      <th>RevolvingUtilizationOfUnsecuredLines</th>\n",
       "      <th>age</th>\n",
       "      <th>NumberOfTime30-59DaysPastDueNotWorse</th>\n",
       "      <th>DebtRatio</th>\n",
       "      <th>MonthlyIncome</th>\n",
       "      <th>NumberOfOpenCreditLinesAndLoans</th>\n",
       "      <th>NumberOfTimes90DaysLate</th>\n",
       "      <th>NumberRealEstateLoansOrLines</th>\n",
       "      <th>NumberOfTime60-89DaysPastDueNotWorse</th>\n",
       "      <th>NumberOfDependents</th>\n",
       "      <th>BaseScore</th>\n",
       "      <th>x1</th>\n",
       "      <th>x2</th>\n",
       "      <th>x3</th>\n",
       "      <th>x7</th>\n",
       "      <th>x9</th>\n",
       "      <th>Score</th>\n",
       "    </tr>\n",
       "  </thead>\n",
       "  <tbody>\n",
       "    <tr>\n",
       "      <th>0</th>\n",
       "      <td>0</td>\n",
       "      <td>0</td>\n",
       "      <td>-1.341</td>\n",
       "      <td>0.581</td>\n",
       "      <td>0.954</td>\n",
       "      <td>-0.109</td>\n",
       "      <td>-0.277</td>\n",
       "      <td>1.043</td>\n",
       "      <td>2.726</td>\n",
       "      <td>0.236</td>\n",
       "      <td>2.7</td>\n",
       "      <td>0.101</td>\n",
       "      <td>226.0</td>\n",
       "      <td>-25.0</td>\n",
       "      <td>8.0</td>\n",
       "      <td>30.0</td>\n",
       "      <td>145.0</td>\n",
       "      <td>86.0</td>\n",
       "      <td>470.0</td>\n",
       "    </tr>\n",
       "    <tr>\n",
       "      <th>1</th>\n",
       "      <td>0</td>\n",
       "      <td>0</td>\n",
       "      <td>-1.341</td>\n",
       "      <td>0.581</td>\n",
       "      <td>0.954</td>\n",
       "      <td>-0.109</td>\n",
       "      <td>-0.277</td>\n",
       "      <td>1.043</td>\n",
       "      <td>2.726</td>\n",
       "      <td>0.236</td>\n",
       "      <td>2.7</td>\n",
       "      <td>0.101</td>\n",
       "      <td>226.0</td>\n",
       "      <td>-25.0</td>\n",
       "      <td>8.0</td>\n",
       "      <td>30.0</td>\n",
       "      <td>145.0</td>\n",
       "      <td>86.0</td>\n",
       "      <td>470.0</td>\n",
       "    </tr>\n",
       "    <tr>\n",
       "      <th>2</th>\n",
       "      <td>0</td>\n",
       "      <td>0</td>\n",
       "      <td>-1.341</td>\n",
       "      <td>0.581</td>\n",
       "      <td>0.954</td>\n",
       "      <td>-0.109</td>\n",
       "      <td>-0.277</td>\n",
       "      <td>1.043</td>\n",
       "      <td>2.726</td>\n",
       "      <td>-0.257</td>\n",
       "      <td>2.7</td>\n",
       "      <td>0.101</td>\n",
       "      <td>226.0</td>\n",
       "      <td>-25.0</td>\n",
       "      <td>8.0</td>\n",
       "      <td>30.0</td>\n",
       "      <td>145.0</td>\n",
       "      <td>86.0</td>\n",
       "      <td>470.0</td>\n",
       "    </tr>\n",
       "    <tr>\n",
       "      <th>3</th>\n",
       "      <td>0</td>\n",
       "      <td>0</td>\n",
       "      <td>1.111</td>\n",
       "      <td>0.581</td>\n",
       "      <td>0.954</td>\n",
       "      <td>-0.109</td>\n",
       "      <td>-0.277</td>\n",
       "      <td>1.043</td>\n",
       "      <td>2.726</td>\n",
       "      <td>0.236</td>\n",
       "      <td>2.7</td>\n",
       "      <td>0.101</td>\n",
       "      <td>226.0</td>\n",
       "      <td>21.0</td>\n",
       "      <td>8.0</td>\n",
       "      <td>30.0</td>\n",
       "      <td>145.0</td>\n",
       "      <td>86.0</td>\n",
       "      <td>516.0</td>\n",
       "    </tr>\n",
       "    <tr>\n",
       "      <th>4</th>\n",
       "      <td>0</td>\n",
       "      <td>0</td>\n",
       "      <td>1.111</td>\n",
       "      <td>0.581</td>\n",
       "      <td>0.954</td>\n",
       "      <td>-0.109</td>\n",
       "      <td>-0.277</td>\n",
       "      <td>1.043</td>\n",
       "      <td>2.726</td>\n",
       "      <td>0.236</td>\n",
       "      <td>2.7</td>\n",
       "      <td>0.101</td>\n",
       "      <td>226.0</td>\n",
       "      <td>21.0</td>\n",
       "      <td>8.0</td>\n",
       "      <td>30.0</td>\n",
       "      <td>145.0</td>\n",
       "      <td>86.0</td>\n",
       "      <td>516.0</td>\n",
       "    </tr>\n",
       "  </tbody>\n",
       "</table>\n",
       "</div>"
      ],
      "text/plain": [
       "   SeriousDlqin2yrs  SeriousDlqin2yrs  RevolvingUtilizationOfUnsecuredLines  \\\n",
       "0                 0                 0                                -1.341   \n",
       "1                 0                 0                                -1.341   \n",
       "2                 0                 0                                -1.341   \n",
       "3                 0                 0                                 1.111   \n",
       "4                 0                 0                                 1.111   \n",
       "\n",
       "     age  NumberOfTime30-59DaysPastDueNotWorse  DebtRatio  MonthlyIncome  \\\n",
       "0  0.581                                 0.954     -0.109         -0.277   \n",
       "1  0.581                                 0.954     -0.109         -0.277   \n",
       "2  0.581                                 0.954     -0.109         -0.277   \n",
       "3  0.581                                 0.954     -0.109         -0.277   \n",
       "4  0.581                                 0.954     -0.109         -0.277   \n",
       "\n",
       "   NumberOfOpenCreditLinesAndLoans  NumberOfTimes90DaysLate  \\\n",
       "0                            1.043                    2.726   \n",
       "1                            1.043                    2.726   \n",
       "2                            1.043                    2.726   \n",
       "3                            1.043                    2.726   \n",
       "4                            1.043                    2.726   \n",
       "\n",
       "   NumberRealEstateLoansOrLines  NumberOfTime60-89DaysPastDueNotWorse  \\\n",
       "0                         0.236                                   2.7   \n",
       "1                         0.236                                   2.7   \n",
       "2                        -0.257                                   2.7   \n",
       "3                         0.236                                   2.7   \n",
       "4                         0.236                                   2.7   \n",
       "\n",
       "   NumberOfDependents  BaseScore    x1   x2    x3     x7    x9  Score  \n",
       "0               0.101      226.0 -25.0  8.0  30.0  145.0  86.0  470.0  \n",
       "1               0.101      226.0 -25.0  8.0  30.0  145.0  86.0  470.0  \n",
       "2               0.101      226.0 -25.0  8.0  30.0  145.0  86.0  470.0  \n",
       "3               0.101      226.0  21.0  8.0  30.0  145.0  86.0  516.0  \n",
       "4               0.101      226.0  21.0  8.0  30.0  145.0  86.0  516.0  "
      ]
     },
     "execution_count": 351,
     "metadata": {},
     "output_type": "execute_result"
    }
   ],
   "source": [
    "def replace_woe(series,cut,woe):\n",
    "    list=[]\n",
    "    i=0\n",
    "    while i<len(series):\n",
    "        try:\n",
    "            value=series[i]\n",
    "        except:\n",
    "            i += 1\n",
    "            continue\n",
    "        j=len(cut)-2\n",
    "        m=len(cut)-2\n",
    "        while j>=0:\n",
    "            if value>=cut[j]:\n",
    "                j=-1\n",
    "            else:\n",
    "                j -=1\n",
    "                m -= 1\n",
    "        list.append(woe[m])\n",
    "        i += 1\n",
    "    return list\n",
    "\n",
    "# 替換成woe\n",
    "train['RevolvingUtilizationOfUnsecuredLines'] = pd.Series(replace_woe(train['RevolvingUtilizationOfUnsecuredLines'], cutx1, woex1))\n",
    "train['age'] = pd.Series(replace_woe(train['age'], cutx2, woex2))\n",
    "train['NumberOfTime30-59DaysPastDueNotWorse'] = pd.Series(replace_woe(train['NumberOfTime30-59DaysPastDueNotWorse'], cutx3, woex3))\n",
    "train['DebtRatio'] = pd.Series(replace_woe(train['DebtRatio'], cutx4, woex4))\n",
    "train['MonthlyIncome'] = pd.Series(replace_woe(train['MonthlyIncome'], cutx5, woex5))\n",
    "train['NumberOfOpenCreditLinesAndLoans'] = pd.Series(replace_woe(train['NumberOfOpenCreditLinesAndLoans'], cutx6, woex6))\n",
    "train['NumberOfTimes90DaysLate'] = pd.Series(replace_woe(train['NumberOfTimes90DaysLate'], cutx7, woex7))\n",
    "train['NumberRealEstateLoansOrLines'] = pd.Series(replace_woe(train['NumberRealEstateLoansOrLines'], cutx8, woex8))\n",
    "train['NumberOfTime60-89DaysPastDueNotWorse'] = pd.Series(replace_woe(train['NumberOfTime60-89DaysPastDueNotWorse'], cutx9, woex9))\n",
    "train['NumberOfDependents'] = pd.Series(replace_woe(train['NumberOfDependents'], cutx10, woex10))\n",
    "train.dropna(how = 'any')\n",
    "\n",
    "\n",
    "# 替換成woe\n",
    "test['RevolvingUtilizationOfUnsecuredLines'] = pd.Series(replace_woe(test['RevolvingUtilizationOfUnsecuredLines'], cutx1, woex1))\n",
    "test['age'] = pd.Series(replace_woe(test['age'], cutx2, woex2))\n",
    "test['NumberOfTime30-59DaysPastDueNotWorse'] = pd.Series(replace_woe(test['NumberOfTime30-59DaysPastDueNotWorse'], cutx3, woex3))\n",
    "test['DebtRatio'] = pd.Series(replace_woe(test['DebtRatio'], cutx4, woex4))\n",
    "test['MonthlyIncome'] = pd.Series(replace_woe(test['MonthlyIncome'], cutx5, woex5))\n",
    "test['NumberOfOpenCreditLinesAndLoans'] = pd.Series(replace_woe(test['NumberOfOpenCreditLinesAndLoans'], cutx6, woex6))\n",
    "test['NumberOfTimes90DaysLate'] = pd.Series(replace_woe(test['NumberOfTimes90DaysLate'], cutx7, woex7))\n",
    "test['NumberRealEstateLoansOrLines'] = pd.Series(replace_woe(test['NumberRealEstateLoansOrLines'], cutx8, woex8))\n",
    "test['NumberOfTime60-89DaysPastDueNotWorse'] = pd.Series(replace_woe(test['NumberOfTime60-89DaysPastDueNotWorse'], cutx9, woex9))\n",
    "test['NumberOfDependents'] = pd.Series(replace_woe(test['NumberOfDependents'], cutx10, woex10))\n",
    "test.dropna(how = 'any').head()"
   ]
  },
  {
   "cell_type": "code",
   "execution_count": 219,
   "metadata": {},
   "outputs": [],
   "source": [
    "train_X =train.drop(['NumberRealEstateLoansOrLines','NumberOfDependents','NumberOfOpenCreditLinesAndLoans','DebtRatio','MonthlyIncome'],axis=1)\n",
    "test_X =test.drop(['NumberRealEstateLoansOrLines','NumberOfDependents','NumberOfOpenCreditLinesAndLoans','DebtRatio','MonthlyIncome'],axis=1)"
   ]
  },
  {
   "cell_type": "code",
   "execution_count": 352,
   "metadata": {},
   "outputs": [
    {
     "name": "stdout",
     "output_type": "stream",
     "text": [
      "Optimization terminated successfully.\n",
      "         Current function value: 0.185911\n",
      "         Iterations 8\n"
     ]
    }
   ],
   "source": [
    "from sklearn.metrics import roc_curve , auc\n",
    "import statsmodels.api as sm\n",
    "X_train =train_X.drop(['SeriousDlqin2yrs'],axis =1)\n",
    "y_train =train_X['SeriousDlqin2yrs']\n",
    "y_test = test_X['SeriousDlqin2yrs']\n",
    "X_test = test_X.drop(['SeriousDlqin2yrs'],axis =1)\n",
    "\n",
    "X_train = sm.add_constant(X_train)\n",
    "model = sm.Logit(y_train.iloc[:,0], X_train)\n",
    "result = model.fit()"
   ]
  },
  {
   "cell_type": "markdown",
   "metadata": {},
   "source": [
    "接下來為了驗證，我們做統計檢定"
   ]
  },
  {
   "cell_type": "code",
   "execution_count": 347,
   "metadata": {},
   "outputs": [
    {
     "name": "stdout",
     "output_type": "stream",
     "text": [
      "                                    Results: Logit\n",
      "======================================================================================\n",
      "Model:                     Logit                   Pseudo R-squared:        0.246     \n",
      "Dependent Variable:        SeriousDlqin2yrs        AIC:                     44630.7419\n",
      "Date:                      2019-04-06 14:51        BIC:                     44688.9134\n",
      "No. Observations:          120000                  Log-Likelihood:          -22309.   \n",
      "Df Model:                  5                       LL-Null:                 -29576.   \n",
      "Df Residuals:              119994                  LLR p-value:             0.0000    \n",
      "Converged:                 1.0000                  Scale:                   1.0000    \n",
      "No. Iterations:            8.0000                                                     \n",
      "--------------------------------------------------------------------------------------\n",
      "                                      Coef.  Std.Err.    z     P>|z|   [0.025   0.975]\n",
      "--------------------------------------------------------------------------------------\n",
      "const                                -9.9732   0.1063 -93.7854 0.0000 -10.1816 -9.7648\n",
      "RevolvingUtilizationOfUnsecuredLines  0.6424   0.0141  45.5390 0.0000   0.6147  0.6700\n",
      "age                                   0.4801   0.0284  16.8873 0.0000   0.4244  0.5358\n",
      "NumberOfTime30-59DaysPastDueNotWorse  1.0893   0.0287  38.0095 0.0000   1.0331  1.1454\n",
      "NumberOfTimes90DaysLate               1.8487   0.0397  46.5483 0.0000   1.7708  1.9265\n",
      "NumberOfTime60-89DaysPastDueNotWorse  1.1042   0.0414  26.6443 0.0000   1.0230  1.1854\n",
      "======================================================================================\n",
      "\n"
     ]
    }
   ],
   "source": [
    "print(result.summary2())"
   ]
  },
  {
   "cell_type": "code",
   "execution_count": 356,
   "metadata": {},
   "outputs": [
    {
     "data": {
      "image/png": "[encoded data removed]",
      "text/plain": [
       "<Figure size 432x288 with 1 Axes>"
      ]
     },
     "metadata": {
      "needs_background": "light"
     },
     "output_type": "display_data"
    }
   ],
   "source": [
    "def plot_auc(y_test , prediction):\n",
    "    FPR,TPR,threshold = roc_curve(y_test,prediction)\n",
    "    ROC_AUC = auc(FPR,TPR)\n",
    "    plt.plot(FPR, TPR, 'b', label='AUC = %0.2f' % ROC_AUC)\n",
    "    plt.legend(loc='lower right')\n",
    "    plt.plot([0, 1], [0, 1], 'r--')\n",
    "    plt.xlim([0, 1])   \n",
    "    plt.ylim([0, 1])\n",
    "    plt.ylabel('TPR')\n",
    "    plt.xlabel('FPR')\n",
    "    plt.show()\n",
    "y_test = y_test.iloc[:,0]\n",
    "X2 = sm.add_constant(X_test)\n",
    "prediction = result.predict(X2)\n",
    "plot_auc(y_test , prediction)"
   ]
  },
  {
   "cell_type": "markdown",
   "metadata": {},
   "source": [
    "發現AUC是0.85，代表模型的預測效果其實不錯"
   ]
  },
  {
   "cell_type": "code",
   "execution_count": 394,
   "metadata": {},
   "outputs": [],
   "source": [
    "Y = df.SeriousDlqin2yrs\n",
    "X = df.iloc[:,1:]\n",
    "def transform_to_woe(train):\n",
    "    train['RevolvingUtilizationOfUnsecuredLines'] = pd.Series(replace_woe(train['RevolvingUtilizationOfUnsecuredLines'], cutx1, woex1))\n",
    "    train['age'] = pd.Series(replace_woe(train['age'], cutx2, woex2))\n",
    "    train['NumberOfTime30-59DaysPastDueNotWorse'] = pd.Series(replace_woe(train['NumberOfTime30-59DaysPastDueNotWorse'], cutx3, woex3))\n",
    "    train['DebtRatio'] = pd.Series(replace_woe(train['DebtRatio'], cutx4, woex4))\n",
    "    train['MonthlyIncome'] = pd.Series(replace_woe(train['MonthlyIncome'], cutx5, woex5))\n",
    "    train['NumberOfOpenCreditLinesAndLoans'] = pd.Series(replace_woe(train['NumberOfOpenCreditLinesAndLoans'], cutx6, woex6))\n",
    "    train['NumberOfTimes90DaysLate'] = pd.Series(replace_woe(train['NumberOfTimes90DaysLate'], cutx7, woex7))\n",
    "    train['NumberRealEstateLoansOrLines'] = pd.Series(replace_woe(train['NumberRealEstateLoansOrLines'], cutx8, woex8))\n",
    "    train['NumberOfTime60-89DaysPastDueNotWorse'] = pd.Series(replace_woe(train['NumberOfTime60-89DaysPastDueNotWorse'], cutx9, woex9))\n",
    "    train['NumberOfDependents'] = pd.Series(replace_woe(train['NumberOfDependents'], cutx10, woex10))\n",
    "    train.dropna(how = 'any')\n",
    "    return train\n",
    "\n",
    "train = transform_to_woe(X)\n",
    "train_X =train.drop(['NumberRealEstateLoansOrLines','NumberOfDependents','NumberOfOpenCreditLinesAndLoans','DebtRatio','MonthlyIncome'],axis=1)\n",
    "X_train =train_X.drop(['SeriousDlqin2yrs'],axis =1)\n",
    "y_train =train_X['SeriousDlqin2yrs']\n",
    "X_train = sm.add_constant(X_train)"
   ]
  },
  {
   "cell_type": "code",
   "execution_count": 395,
   "metadata": {},
   "outputs": [
    {
     "name": "stdout",
     "output_type": "stream",
     "text": [
      "Optimization terminated successfully.\n",
      "         Current function value: 0.185184\n",
      "         Iterations 8\n",
      "                                    Results: Logit\n",
      "=======================================================================================\n",
      "Model:                      Logit                   Pseudo R-squared:        0.245     \n",
      "Dependent Variable:         SeriousDlqin2yrs        AIC:                     55567.3196\n",
      "Date:                       2019-04-06 15:33        BIC:                     55626.8300\n",
      "No. Observations:           150000                  Log-Likelihood:          -27778.   \n",
      "Df Model:                   5                       LL-Null:                 -36808.   \n",
      "Df Residuals:               149994                  LLR p-value:             0.0000    \n",
      "Converged:                  1.0000                  Scale:                   1.0000    \n",
      "No. Iterations:             8.0000                                                     \n",
      "---------------------------------------------------------------------------------------\n",
      "                                      Coef.  Std.Err.     z     P>|z|   [0.025   0.975]\n",
      "---------------------------------------------------------------------------------------\n",
      "const                                -9.9250   0.0947 -104.8025 0.0000 -10.1106 -9.7394\n",
      "RevolvingUtilizationOfUnsecuredLines  0.6454   0.0126   51.0276 0.0000   0.6206  0.6702\n",
      "age                                   0.4818   0.0254   18.9467 0.0000   0.4320  0.5316\n",
      "NumberOfTime30-59DaysPastDueNotWorse  1.0953   0.0257   42.6468 0.0000   1.0450  1.1456\n",
      "NumberOfTimes90DaysLate               1.8186   0.0356   51.1198 0.0000   1.7489  1.8883\n",
      "NumberOfTime60-89DaysPastDueNotWorse  1.1045   0.0369   29.8980 0.0000   1.0321  1.1769\n",
      "=======================================================================================\n",
      "\n"
     ]
    }
   ],
   "source": [
    "model = sm.Logit(y_train, X_train)\n",
    "result = model.fit()\n",
    "print(result.summary2())"
   ]
  },
  {
   "cell_type": "code",
   "execution_count": 399,
   "metadata": {},
   "outputs": [],
   "source": [
    "df_test = pd.read_csv('/Users/Dennis/Downloads/Give-me-some-credit-master/data/cs-test.csv')\n",
    "df_test = df_test.drop('SeriousDlqin2yrs',axis = 1)\n",
    "test = transform_to_woe(df_test)\n",
    "test_X =test.drop(['NumberRealEstateLoansOrLines','NumberOfDependents','NumberOfOpenCreditLinesAndLoans','DebtRatio','MonthlyIncome'],axis=1)\n",
    "X2 = sm.add_constant(test_X.iloc[:,1:])\n",
    "prediction = result.predict(X2)"
   ]
  },
  {
   "cell_type": "code",
   "execution_count": 405,
   "metadata": {},
   "outputs": [],
   "source": [
    "submit = pd.read_csv('/Users/Dennis/Downloads/Give-me-some-credit-master/results/give_me_credit-0.csv')\n",
    "submit['Probability'] = prediction\n",
    "submit.to_csv('give_me_credit_submit.csv',index = False)"
   ]
  },
  {
   "cell_type": "markdown",
   "metadata": {},
   "source": [
    "## 建立信用評分卡模型"
   ]
  },
  {
   "cell_type": "code",
   "execution_count": 262,
   "metadata": {},
   "outputs": [],
   "source": [
    "import math\n",
    "#這裏設定基本分是600，ＰＤＯ（機率翻倍比值=20）\n",
    "#好壞比：20\n",
    "\n",
    "coe = (result.conf_int().iloc[:,0] + result.conf_int().iloc[:,1]) /2\n",
    "p = 20 / math.log(2)\n",
    "q = 600 - 20 * math.log(20) / math.log(2)\n",
    "baseScore = round(q + p * coe[0], 0)\n",
    "\n",
    "\n",
    "#計算分數\n",
    "def get_score(coe,woe,factor):\n",
    "    scores=[]\n",
    "    for w in woe:\n",
    "        score=round(coe*w*factor,0)\n",
    "        scores.append(score)\n",
    "    return scores\n",
    "\n",
    "# 各項分數\n",
    "x1 = get_score(coe[1], woex1, p)\n",
    "x2 = get_score(coe[2], woex2, p)\n",
    "x3 = get_score(coe[3], woex3, p)\n",
    "x7 = get_score(coe[4], woex7, p)\n",
    "x9 = get_score(coe[5], woex9, p)"
   ]
  },
  {
   "cell_type": "code",
   "execution_count": 263,
   "metadata": {},
   "outputs": [],
   "source": [
    "def compute_score(series,cut,score):\n",
    "    list = []\n",
    "    i = 0\n",
    "    while i < len(series):\n",
    "        value = series[i]\n",
    "        j = len(cut) - 2\n",
    "        m = len(cut) - 2\n",
    "        while j >= 0:\n",
    "            if value >= cut[j]:\n",
    "                j = -1\n",
    "            else:\n",
    "                j -= 1\n",
    "                m -= 1\n",
    "        list.append(score[m])\n",
    "        i += 1\n",
    "    return list\n",
    "# j和m表示pointer\n",
    "# list就是在x1里面挑一个值，這個值和series[i]是對應的\n",
    "\n",
    "from pandas import Series\n",
    "test['BaseScore']=Series(np.zeros(len(test))) + baseScore\n",
    "test['x1'] = Series(compute_score(test['RevolvingUtilizationOfUnsecuredLines'], cutx1, x1))\n",
    "test['x2'] = Series(compute_score(test['age'], cutx2, x2))\n",
    "test['x3'] = Series(compute_score(test['NumberOfTime30-59DaysPastDueNotWorse'], cutx3, x3))\n",
    "test['x7'] = Series(compute_score(test['NumberOfTimes90DaysLate'], cutx7, x7))\n",
    "test['x9'] = Series(compute_score(test['NumberOfTime60-89DaysPastDueNotWorse'], cutx9, x9))\n",
    "test['Score'] = test['x1'] + test['x2'] + test['x3'] + test['x7'] +test['x9']  + baseScore"
   ]
  },
  {
   "cell_type": "code",
   "execution_count": 264,
   "metadata": {},
   "outputs": [
    {
     "data": {
      "text/html": [
       "<div>\n",
       "<style scoped>\n",
       "    .dataframe tbody tr th:only-of-type {\n",
       "        vertical-align: middle;\n",
       "    }\n",
       "\n",
       "    .dataframe tbody tr th {\n",
       "        vertical-align: top;\n",
       "    }\n",
       "\n",
       "    .dataframe thead th {\n",
       "        text-align: right;\n",
       "    }\n",
       "</style>\n",
       "<table border=\"1\" class=\"dataframe\">\n",
       "  <thead>\n",
       "    <tr style=\"text-align: right;\">\n",
       "      <th></th>\n",
       "      <th>SeriousDlqin2yrs</th>\n",
       "      <th>SeriousDlqin2yrs</th>\n",
       "      <th>BaseScore</th>\n",
       "      <th>x1</th>\n",
       "      <th>x2</th>\n",
       "      <th>x3</th>\n",
       "      <th>x7</th>\n",
       "      <th>x9</th>\n",
       "      <th>Score</th>\n",
       "    </tr>\n",
       "  </thead>\n",
       "  <tbody>\n",
       "    <tr>\n",
       "      <th>0</th>\n",
       "      <td>0</td>\n",
       "      <td>0</td>\n",
       "      <td>226.0</td>\n",
       "      <td>-25.0</td>\n",
       "      <td>8.0</td>\n",
       "      <td>30.0</td>\n",
       "      <td>145.0</td>\n",
       "      <td>86.0</td>\n",
       "      <td>470.0</td>\n",
       "    </tr>\n",
       "    <tr>\n",
       "      <th>1</th>\n",
       "      <td>0</td>\n",
       "      <td>0</td>\n",
       "      <td>226.0</td>\n",
       "      <td>-25.0</td>\n",
       "      <td>8.0</td>\n",
       "      <td>30.0</td>\n",
       "      <td>145.0</td>\n",
       "      <td>86.0</td>\n",
       "      <td>470.0</td>\n",
       "    </tr>\n",
       "    <tr>\n",
       "      <th>2</th>\n",
       "      <td>0</td>\n",
       "      <td>0</td>\n",
       "      <td>226.0</td>\n",
       "      <td>-25.0</td>\n",
       "      <td>8.0</td>\n",
       "      <td>30.0</td>\n",
       "      <td>145.0</td>\n",
       "      <td>86.0</td>\n",
       "      <td>470.0</td>\n",
       "    </tr>\n",
       "    <tr>\n",
       "      <th>3</th>\n",
       "      <td>0</td>\n",
       "      <td>0</td>\n",
       "      <td>226.0</td>\n",
       "      <td>21.0</td>\n",
       "      <td>8.0</td>\n",
       "      <td>30.0</td>\n",
       "      <td>145.0</td>\n",
       "      <td>86.0</td>\n",
       "      <td>516.0</td>\n",
       "    </tr>\n",
       "    <tr>\n",
       "      <th>4</th>\n",
       "      <td>0</td>\n",
       "      <td>0</td>\n",
       "      <td>226.0</td>\n",
       "      <td>21.0</td>\n",
       "      <td>8.0</td>\n",
       "      <td>30.0</td>\n",
       "      <td>145.0</td>\n",
       "      <td>86.0</td>\n",
       "      <td>516.0</td>\n",
       "    </tr>\n",
       "  </tbody>\n",
       "</table>\n",
       "</div>"
      ],
      "text/plain": [
       "   SeriousDlqin2yrs  SeriousDlqin2yrs  BaseScore    x1   x2    x3     x7  \\\n",
       "0                 0                 0      226.0 -25.0  8.0  30.0  145.0   \n",
       "1                 0                 0      226.0 -25.0  8.0  30.0  145.0   \n",
       "2                 0                 0      226.0 -25.0  8.0  30.0  145.0   \n",
       "3                 0                 0      226.0  21.0  8.0  30.0  145.0   \n",
       "4                 0                 0      226.0  21.0  8.0  30.0  145.0   \n",
       "\n",
       "     x9  Score  \n",
       "0  86.0  470.0  \n",
       "1  86.0  470.0  \n",
       "2  86.0  470.0  \n",
       "3  86.0  516.0  \n",
       "4  86.0  516.0  "
      ]
     },
     "execution_count": 264,
     "metadata": {},
     "output_type": "execute_result"
    }
   ],
   "source": [
    "test.loc[:,['SeriousDlqin2yrs','BaseScore', 'x1', 'x2', 'x3', 'x7', 'x9', 'Score']].head()"
   ]
  },
  {
   "cell_type": "markdown",
   "metadata": {},
   "source": [
    "所以由這張表，我們就可以利用Score知道這個人的信用分數，進而搭配貸款系統配發對應的貸款給他。"
   ]
  },
  {
   "cell_type": "markdown",
   "metadata": {},
   "source": [
    "額外用sklearn的lr"
   ]
  },
  {
   "cell_type": "code",
   "execution_count": 314,
   "metadata": {},
   "outputs": [],
   "source": [
    "x_train = X_train.iloc[:,1:].values\n",
    "y_train = y_train.iloc[:,0].values\n",
    "x_test = X_test.values\n",
    "y_test = y_test.iloc[:,0].values"
   ]
  },
  {
   "cell_type": "code",
   "execution_count": 319,
   "metadata": {},
   "outputs": [
    {
     "name": "stderr",
     "output_type": "stream",
     "text": [
      "/Users/Dennis/anaconda3/lib/python3.7/site-packages/sklearn/linear_model/logistic.py:433: FutureWarning: Default solver will be changed to 'lbfgs' in 0.22. Specify a solver to silence this warning.\n",
      "  FutureWarning)\n"
     ]
    },
    {
     "name": "stdout",
     "output_type": "stream",
     "text": [
      "混淆矩陣: \n",
      "[[21980  6064]\n",
      " [  459  1497]]\n"
     ]
    }
   ],
   "source": [
    "from sklearn.linear_model import LogisticRegression\n",
    "from sklearn.metrics import confusion_matrix\n",
    "import itertools\n",
    "\n",
    "\n",
    "model = LogisticRegression(class_weight='balanced')\n",
    "model.fit(x_train,y_train)\n",
    "cnf=confusion_matrix(y_test,model.predict(x_test))\n",
    "print('混淆矩陣: ')\n",
    "print(cnf)"
   ]
  },
  {
   "cell_type": "code",
   "execution_count": 320,
   "metadata": {},
   "outputs": [
    {
     "name": "stdout",
     "output_type": "stream",
     "text": [
      "Confusion matrix, without normalization\n",
      "[[21980  6064]\n",
      " [  459  1497]]\n"
     ]
    },
    {
     "data": {
      "image/png": "[encoded data removed]",
      "text/plain": [
       "<Figure size 1080x576 with 2 Axes>"
      ]
     },
     "metadata": {
      "needs_background": "light"
     },
     "output_type": "display_data"
    }
   ],
   "source": [
    "\n",
    "target_name=['yes','no'] #是否有過\n",
    "\n",
    "def plot_confusion_matrix(cm, classes,\n",
    "                          normalize=False,\n",
    "                          title='Confusion matrix',\n",
    "                          cmap=plt.cm.Blues):\n",
    "    \"\"\"\n",
    "    This function prints and plots the confusion matrix.\n",
    "    Normalization can be applied by setting `normalize=True`.\n",
    "    \"\"\"\n",
    "    plt.figure(figsize = (15,8))\n",
    "    if normalize:\n",
    "        cm = cm.astype('float') / cm.sum(axis=1)[:, np.newaxis]\n",
    "        print(\"Normalized confusion matrix\")\n",
    "    else:\n",
    "        print('Confusion matrix, without normalization')\n",
    "\n",
    "    print(cm)\n",
    "\n",
    "    plt.imshow(cm, interpolation='nearest', cmap=cmap)\n",
    "    plt.title(title)\n",
    "    plt.colorbar()\n",
    "    tick_marks = np.arange(len(classes))\n",
    "    plt.xticks(tick_marks, classes, rotation=45)\n",
    "    plt.yticks(tick_marks, classes)\n",
    "\n",
    "    fmt = '.2f' if normalize else 'd'\n",
    "    thresh = cm.max() / 2.\n",
    "    for i, j in itertools.product(range(cm.shape[0]), range(cm.shape[1])):\n",
    "        plt.text(j, i, format(cm[i, j], fmt),\n",
    "                 horizontalalignment=\"center\",\n",
    "                 color=\"white\" if cm[i, j] > thresh else \"black\")\n",
    "\n",
    "    plt.tight_layout()\n",
    "    plt.ylabel('True label')\n",
    "    plt.xlabel('Predicted label')\n",
    "plot_confusion_matrix(cnf , target_name)"
   ]
  },
  {
   "cell_type": "code",
   "execution_count": 321,
   "metadata": {},
   "outputs": [
    {
     "name": "stdout",
     "output_type": "stream",
     "text": [
      "              precision    recall  f1-score   support\n",
      "\n",
      "           0       0.98      0.78      0.87     28044\n",
      "           1       0.20      0.77      0.31      1956\n",
      "\n",
      "   micro avg       0.78      0.78      0.78     30000\n",
      "   macro avg       0.59      0.77      0.59     30000\n",
      "weighted avg       0.93      0.78      0.83     30000\n",
      "\n"
     ]
    }
   ],
   "source": [
    "from sklearn.metrics import classification_report\n",
    "print(classification_report(y_test,model.predict(x_test)))"
   ]
  },
  {
   "cell_type": "markdown",
   "metadata": {},
   "source": [
    "做出來效果普通，不過recall rate有0.77其實還行，畢竟這個模型的重點其實要盡量避開欠款的人\n",
    "改良方式可以利用人工處理資料不平均而不是簡單在sklearn的model加上weights的參數而已。"
   ]
  }
 ],
 "metadata": {
  "kernelspec": {
   "display_name": "Python 3",
   "language": "python",
   "name": "python3"
  },
  "language_info": {
   "codemirror_mode": {
    "name": "ipython",
    "version": 3
   },
   "file_extension": ".py",
   "mimetype": "text/x-python",
   "name": "python",
   "nbconvert_exporter": "python",
   "pygments_lexer": "ipython3",
   "version": "3.7.1"
  }
 },
 "nbformat": 4,
 "nbformat_minor": 2
}
