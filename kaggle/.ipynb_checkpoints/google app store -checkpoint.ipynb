{
 "cells": [
  {
   "cell_type": "markdown",
   "metadata": {},
   "source": [
    "OK!今天會做這個題目主要是有感於資管專題下禮拜有說明會，然後也差不多要開始找教授了。\n",
    "雖然感覺教授們會比較關注技術面(跟我一樣)但是如果用到某個商業實踐，我們有哪些領域可以考慮呢？\n",
    "我第一個會想分析一下App的市場，看一下成功的App們有什麼特質。畢竟我們現在實際有在用的App幾乎都是社群軟體，會影響對好App的評價。\n",
    "如果主觀就挑幾款App分析顯得不夠客觀，因此既然有找到Google的App資料，就直接來分析一下吧！"
   ]
  },
  {
   "cell_type": "code",
   "execution_count": null,
   "metadata": {
    "_cell_guid": "b1076dfc-b9ad-4769-8c92-a6c4dae69d19",
    "_uuid": "8f2839f25d086af736a60e9eeb907d3b93b6e0e5"
   },
   "outputs": [],
   "source": [
    "# This Python 3 environment comes with many helpful analytics libraries installed\n",
    "# It is defined by the kaggle/python docker image: https://github.com/kaggle/docker-python\n",
    "# For example, here's several helpful packages to load in \n",
    "\n",
    "import numpy as np # linear algebra\n",
    "import pandas as pd # data processing, CSV file I/O (e.g. pd.read_csv)\n",
    "\n",
    "# Input data files are available in the \"../input/\" directory.\n",
    "# For example, running this (by clicking run or pressing Shift+Enter) will list the files in the input directory\n",
    "\n",
    "import os\n",
    "print(os.listdir(\"../input\"))\n",
    "\n",
    "# Any results you write to the current directory are saved as output."
   ]
  },
  {
   "cell_type": "code",
   "execution_count": null,
   "metadata": {
    "_cell_guid": "79c7e3d0-c299-4dcb-8224-4455121ee9b0",
    "_uuid": "d629ff2d2480ee46fbb7e2d37f6b5fab8052498a"
   },
   "outputs": [],
   "source": [
    "df = pd.read_csv('../input/googleplaystore.csv')\n",
    "df.head()"
   ]
  },
  {
   "cell_type": "code",
   "execution_count": null,
   "metadata": {},
   "outputs": [],
   "source": [
    "\"\"\"\n",
    "data_overview(df)\n",
    "input : df : DataFrame\n",
    "output:簡單的資料概覽\n",
    "\"\"\"\n",
    "def data_overview(df):\n",
    "    print(\"Data columns :\" , df.shape[1])\n",
    "    print(\"Data nums : \" , df.shape[0])\n",
    "    print(df.info())\n",
    "    print(df.head())\n",
    "data_overview(df)"
   ]
  },
  {
   "cell_type": "markdown",
   "metadata": {},
   "source": [
    "好吧，分數缺失的比較多，我們可以把題目改成作剩下的分數預測XD\n",
    "不過因為今天的目的是：「分析App的定價跟成功的App有什麼秘訣？」\n",
    "因此我們先按捺住那股衝動，做個EDA!\n",
    "在EDA之前不要忘記做個資料清洗，觀察一下可以發現size有M，我們把MB去掉保留數字就好！很多App後面的下載數用＋表示，那個我們也想拿掉。\n",
    "其實原則很簡單，就是把數字還給是數字的樣子！有個要注意的點是裡面有個叫Free的名稱，那應該是不小心記到price，可以看看資料是否互換了！"
   ]
  },
  {
   "cell_type": "markdown",
   "metadata": {},
   "source": [
    "# Data cleasing"
   ]
  },
  {
   "cell_type": "code",
   "execution_count": null,
   "metadata": {},
   "outputs": [],
   "source": [
    "cleasing_name = ['Rating' ,'Reviews' ,'Size' , 'Installs', 'Price'\n",
    ",'Current Ver', 'Android Ver']\n",
    "for col in cleasing_name:\n",
    "    print(df[col].unique())"
   ]
  },
  {
   "cell_type": "markdown",
   "metadata": {},
   "source": [
    "ok，這樣我們可以很快概覽這些資料的長相(?\n",
    "那就知道分別對應的col有哪些資料需要結構化，比如k可以改成1000，and up 可以拿掉，反正就是把奇奇怪怪的符號轉化一下！\n",
    "有意義的給他數字意義，沒意義的了解意思後思考替換方式，然後維持數字的樣子"
   ]
  },
  {
   "cell_type": "code",
   "execution_count": null,
   "metadata": {},
   "outputs": [],
   "source": [
    "df[df.Installs ==\"Free\"] #看一下，發現原來他沒有被歸類到導致資料遞移，那我們就先不要看他了，因為他評分好低，方便一下刪掉"
   ]
  },
  {
   "cell_type": "code",
   "execution_count": null,
   "metadata": {},
   "outputs": [],
   "source": [
    "df = df[~df['Installs'].isin([\"Free\"])]\n",
    "df['Installs'] = df['Installs'].apply(lambda x: x.replace('+' ,'' ))\n",
    "df['Installs'] = df['Installs'].apply(lambda x: x.replace(',' , ''))\n",
    "df.Installs = df.Installs.apply(lambda x:int(x))"
   ]
  },
  {
   "cell_type": "code",
   "execution_count": null,
   "metadata": {},
   "outputs": [],
   "source": [
    "#清理Size\n",
    "df['Size'] = df.Size.apply(lambda x: str(x).replace('Varies with device' ,'NaN'))\n",
    "df['Size'] = df.Size.apply(lambda x:str(x).replace('M' , '')) #把M去掉\n",
    "df['Size'] = df.Size.apply(lambda x:str(x).replace(',' , ''))\n",
    "df['Size'] = df.Size.apply(lambda x: float(str(x).replace('k',''))/1000)\n",
    "\n",
    "#更改Type\n",
    "df['Size'] = df.Size.apply(lambda x: float(x))\n",
    "df['Installs'] = df.Installs.apply(lambda x:float(x))\n",
    "\n",
    "#處理Price\n",
    "df['Price'] = df['Price'].apply(lambda x:str(x).replace('$' , ''))\n",
    "df['Price'] = df['Price'].apply(lambda x:float(x))\n",
    "\n",
    "#把review的type轉一下\n",
    "df['Reviews'] = df['Reviews'].apply(lambda x:int(x))"
   ]
  },
  {
   "cell_type": "code",
   "execution_count": null,
   "metadata": {},
   "outputs": [],
   "source": [
    "#載入畫圖套件\n",
    "import seaborn as sns\n",
    "import matplotlib.pyplot as plt\n",
    "%matplotlib inline"
   ]
  },
  {
   "cell_type": "code",
   "execution_count": null,
   "metadata": {},
   "outputs": [],
   "source": [
    "#我們簡單畫一下圖，看看資料分布\n",
    "df_pair = df.dropna()\n",
    "r = df.Rating\n",
    "s = df.Size\n",
    "i = df.Installs[df.Installs!=0]\n",
    "re = df.Reviews[df.Reviews!=0]\n",
    "t = df.Type\n",
    "price = df['Price']\n",
    "# sns.pairplot()\n",
    "sns.pairplot(pd.DataFrame(list(zip(r,s,i,re,t,price)) , columns=['Rating','Size', 'Installs', 'Reviews', 'Type', 'Price']) , hue = 'Type' , palette='Set2')"
   ]
  },
  {
   "cell_type": "markdown",
   "metadata": {},
   "source": [
    "那個我說，review , installs 的分佈實在不是很明顯，我們可以推估人家是右偏（左邊超高右邊沒東西），所以取對數試試看！"
   ]
  },
  {
   "cell_type": "code",
   "execution_count": null,
   "metadata": {},
   "outputs": [],
   "source": [
    "#我們取對數畫圖，看看能不能更好洞察資料分布\n",
    "df_pair = df.dropna()\n",
    "r = df.Rating\n",
    "s = df.Size\n",
    "i = df.Installs[df.Installs!=0]\n",
    "re = df.Reviews[df.Reviews!=0]\n",
    "t = df.Type\n",
    "price = df['Price']\n",
    "# sns.pairplot()\n",
    "sns.pairplot(pd.DataFrame(list(zip(r,s,np.log(i),np.log10(re),t,price)) , columns=['Rating','Size', 'Installs', 'Reviews', 'Type', 'Price']) , hue = 'Type' , palette='Set2')"
   ]
  },
  {
   "cell_type": "markdown",
   "metadata": {},
   "source": [
    "簡單看一下，可以歸納出幾點：\n",
    "* 評論數明顯付費App多一點，可能免費的人們不爽就刪掉了XD，但是付錢的App會開罵！\n",
    "* 付費的App多數都有不錯的評價，可見如果想試試看有興趣的App(比如生產力、遊戲)，可以直接上網看「付費App」的評價來看一下這款App有沒有滿足到您的需求。\n",
    "* 大多數人還是偏好安裝輕型App，畢竟App實在太多了，人家憑什麼要替大App留下空間，還不如多裝幾個App玩玩看\n",
    "* reviews跟安裝量沒什麼關係，可見App適合敏捷開發，迅速得到市場反饋再成長即可，重點是prototype跟version的推出速度（所以我們**等等可以看看version跟review是不是有正向關係？改版越多次的拿掉日期因素之後，會不會是快速吸收市場反映的結果呢？**）\n",
    "* 有些App的price也太高，這裡是美國資料，美金400真的what is this junk app?"
   ]
  },
  {
   "cell_type": "code",
   "execution_count": null,
   "metadata": {},
   "outputs": [],
   "source": [
    "import plotly\n",
    "plotly.offline.init_notebook_mode(connected=True)\n",
    "import plotly.graph_objs as go\n",
    "\n",
    "from plotly.offline import iplot\n",
    "import plotly.figure_factory as ff\n",
    "import cufflinks as cf\n",
    "\n",
    "\n",
    "import warnings\n",
    "warnings.filterwarnings('ignore')"
   ]
  },
  {
   "cell_type": "code",
   "execution_count": null,
   "metadata": {},
   "outputs": [],
   "source": [
    "number_of_apps_in_category = df.Category.value_counts().sort_values()\n",
    "data = [go.Pie(\n",
    "    labels = number_of_apps_in_category.index,\n",
    "    values = number_of_apps_in_category.values,\n",
    "    hoverinfo = 'label+value'\n",
    ")]\n",
    "\n",
    "iplot(data )"
   ]
  },
  {
   "cell_type": "code",
   "execution_count": null,
   "metadata": {},
   "outputs": [],
   "source": [
    "number_of_apps_in_category = df.Category.value_counts().sort_values(ascending = False\n",
    "                                                                   )\n",
    "data = [go.Bar(\n",
    "            x= number_of_apps_in_category.index,\n",
    "            y= number_of_apps_in_category.values,\n",
    "    \n",
    "    )]\n",
    "\n",
    "iplot(data)"
   ]
  },
  {
   "cell_type": "markdown",
   "metadata": {},
   "source": [
    "其實生產力工具最近幾年慢慢往上升了，人們越來越注重個人效能以及管理 <<< 這都是題外話，並不是我們分析得出的結果\n",
    "回到圖表，我們發現最多的App是family()，遊戲還是熱門，的確，現在看到同學滑手機不是玩電動就是回訊息，大概前三名蠻明顯的量很多，剩下的App種類其實都差不多。\n",
    "因此如果想要開創比較小的市場，可以走**中間排名**的種類App，比如運動、生活、金融、社群等等，那等一下，為什麼不是做比較冷門的種類呢？\n",
    "我們可以發現：後面的App有什麼特性？主要是新興與娛樂種類，但是這些都是平台的移轉性高的App，美妝、食物、玩樂都可以用IG , FB 取代，天氣手機基本上都內建了，甚至可以\n",
    "追蹤氣象專家的粉絲團關注，Art有pinterest web可以逛，這些App或許不是一個原生的，而主要都是已經有web service的App。\n",
    "但是如果我們想走移動端友善的，就要思考有什麼服務可以不被網站取代，通常結合GPS、預定的都是mobile 優先的App，我們可以思考融入商務、金融等..."
   ]
  },
  {
   "cell_type": "code",
   "execution_count": null,
   "metadata": {},
   "outputs": [],
   "source": [
    "data = [go.Histogram(\n",
    "    x = df.Rating,\n",
    "    xbins = {'start':1 , 'size' :0.1 , 'end':5}\n",
    ")]\n",
    "\n",
    "print('Average app rating = '  , np.mean(df.Rating))\n",
    "iplot(data)"
   ]
  },
  {
   "cell_type": "markdown",
   "metadata": {},
   "source": [
    "App平均都有4.19分，那麼哪些種類的App平均有比較好的表現呢？"
   ]
  },
  {
   "cell_type": "code",
   "execution_count": null,
   "metadata": {},
   "outputs": [],
   "source": [
    "data = [go.Box(x = df.Category , y = df.Rating)]\n",
    "iplot(data)"
   ]
  },
  {
   "cell_type": "markdown",
   "metadata": {},
   "source": [
    "看來有很多離群值呢！有些App容易出現表現得特別差的App，但是有些App的評分就非常集中，好比social , shopping的就蠻集中的，tools , finance就蠻不集中的，尤其是\n",
    "tool，難用的tool大家就會直接給1分了！或許是因為這些App的使用對象比較偏向專業人士，對資訊以及好用度非常嚴格，\n",
    "值得注意的是dating , lifestyle的App雖然沒有太多離均值，但是評價偏向兩極。"
   ]
  },
  {
   "cell_type": "markdown",
   "metadata": {},
   "source": [
    "# 檢查類別變數之間有沒有統計顯著性？ 評分會根據不同App有顯著不同嗎？"
   ]
  },
  {
   "cell_type": "code",
   "execution_count": null,
   "metadata": {},
   "outputs": [],
   "source": [
    "print('Get App!')\n",
    "df.Category.value_counts()"
   ]
  },
  {
   "cell_type": "code",
   "execution_count": null,
   "metadata": {},
   "outputs": [],
   "source": [
    "import scipy.stats as stats\n",
    "# 做one-way ANOVA analysis\n",
    "f = stats.f_oneway(df.loc[df.Category == 'BUSINESS']['Rating'].dropna(), \n",
    "               df.loc[df.Category == 'FAMILY']['Rating'].dropna(),\n",
    "               df.loc[df.Category == 'GAME']['Rating'].dropna(),\n",
    "               df.loc[df.Category == 'PERSONALIZATION']['Rating'].dropna(),\n",
    "               df.loc[df.Category == 'LIFESTYLE']['Rating'].dropna(),\n",
    "               df.loc[df.Category == 'FINANCE']['Rating'].dropna(),\n",
    "               df.loc[df.Category == 'EDUCATION']['Rating'].dropna(),\n",
    "               df.loc[df.Category == 'MEDICAL']['Rating'].dropna(),\n",
    "               df.loc[df.Category == 'TOOLS']['Rating'].dropna(),\n",
    "               df.loc[df.Category == 'PRODUCTIVITY']['Rating'].dropna()\n",
    "              )\n",
    "\n",
    "print(f)\n",
    "# 因為分析太多App種類會有點零碎，我們將前幾名抓出來就好\n",
    "groups = df.groupby('Category').filter(lambda x: len(x) > 283).reset_index()"
   ]
  },
  {
   "cell_type": "markdown",
   "metadata": {},
   "source": [
    "發現p-value非常小，所以我們可以拒絕虛無假設，代表評分會因為類別而有所不同"
   ]
  },
  {
   "cell_type": "code",
   "execution_count": null,
   "metadata": {},
   "outputs": [],
   "source": [
    "#將評分資料根據類別做圖\n",
    "array = groups['Rating'].hist(by = groups.Category , sharex = True , figsize = (20,20))"
   ]
  },
  {
   "cell_type": "markdown",
   "metadata": {},
   "source": [
    "# 誰表現得最好？"
   ]
  },
  {
   "cell_type": "code",
   "execution_count": null,
   "metadata": {},
   "outputs": [],
   "source": [
    "# 將video以上的App都抓出來\n",
    "groups = df.groupby('Category').filter(lambda x: len(x) >=175).reset_index()\n",
    "\n",
    "print('Average rating = ' , np.nanmean(list(groups.Rating)))\n",
    "\n",
    "c = ['hsl('+str(h)+',50%'+',50%)' for h in np.linspace(0, 720, len(set(groups.Category)))]\n",
    "\n",
    "layout = {'title' : 'App ratings across major categories',\n",
    "        'xaxis': {'tickangle':-40},\n",
    "        'yaxis': {'title': 'Rating'},\n",
    "          'plot_bgcolor': 'rgb(250,250,250)',\n",
    "          'shapes': [{\n",
    "              'type' :'line',\n",
    "              'x0': -.5,\n",
    "              'y0': np.nanmean(list(groups.Rating)),\n",
    "              'x1': 19,\n",
    "              'y1': np.nanmean(list(groups.Rating)),\n",
    "              'line': { 'dash': 'dashdot'}\n",
    "          }]\n",
    "          }\n",
    "\n",
    "data = [{\n",
    "    'y': df.loc[df.Category==category]['Rating'], \n",
    "    'type':'violin',\n",
    "    'name' : category,\n",
    "    'showlegend':False,\n",
    "    #'marker': {'color': 'Set2'},\n",
    "    } for i,category in enumerate(list(set(groups.Category)))]\n",
    "\n",
    "\n",
    "iplot({'data':data , 'layout':layout})"
   ]
  },
  {
   "cell_type": "markdown",
   "metadata": {},
   "source": [
    "我們可以看到，健康健身、閱讀的App平均的品質比較高，超過半數的App分數都接近4.5分。\n",
    "而約會類型的App分數有一半都小於4.18(平均分數)"
   ]
  },
  {
   "cell_type": "markdown",
   "metadata": {},
   "source": [
    "# App的容量影響大嗎？"
   ]
  },
  {
   "cell_type": "code",
   "execution_count": null,
   "metadata": {},
   "outputs": [],
   "source": [
    "sns.set_style('darkgrid')\n",
    "df.Size = df.Size*100\n",
    "plt.figure(figsize = (12,8))\n",
    "ax = sns.jointplot(df.Size , df.Rating )"
   ]
  },
  {
   "cell_type": "markdown",
   "metadata": {},
   "source": [
    "基本上App都小於20MB"
   ]
  },
  {
   "cell_type": "code",
   "execution_count": null,
   "metadata": {},
   "outputs": [],
   "source": [
    "c = ['hsl('+str(h)+',50%'+',50%)' for h in np.linspace(0, 360, len(list(set(groups.Category))))]\n",
    "\n",
    "#把比較重的App取出來\n",
    "subset_df = df[df.Size > 40]\n",
    "groups_temp = subset_df.groupby('Category').filter(lambda x: len(x) >20)\n",
    "\n",
    "#知道group items 是家庭、工具、閱讀\n",
    "# for category in enumerate(list(set(groups_temp.Category))):\n",
    "#     print (category)\n",
    "\n",
    "data = [{\n",
    "    'x': groups_temp.loc[subset_df.Category==category[1]]['Rating'], \n",
    "    'type':'scatter',\n",
    "    'y' : subset_df['Size'],\n",
    "    'name' : str(category[1]),\n",
    "    'mode' : 'markers',\n",
    "    'showlegend': True,\n",
    "    #'marker': {'color':c[i]}\n",
    "    #'text' : df['rating'],\n",
    "    } for category in enumerate(['FAMILY','TOOLS' , 'LIBRARIES_AND_DEMO'])]\n",
    "\n",
    "\n",
    "layout = {'title':\"Rating vs Size\", \n",
    "          'xaxis': {'title' : 'Rating'},\n",
    "          'yaxis' : {'title' : 'Size (in MB)'},\n",
    "         'plot_bgcolor': 'rgb(0,0,0)'}\n",
    "\n",
    "iplot({\"data\":data , \"layout\":layout})"
   ]
  },
  {
   "cell_type": "markdown",
   "metadata": {},
   "source": [
    "大部分的**家庭類**、**工具類** , **閱讀類 **比較吃容量！\n"
   ]
  },
  {
   "cell_type": "markdown",
   "metadata": {},
   "source": [
    "# 定價策略，免費的最貴？"
   ]
  },
  {
   "cell_type": "code",
   "execution_count": null,
   "metadata": {},
   "outputs": [],
   "source": [
    "paid_apps = df[df.Price > 0]\n",
    "p = sns.jointplot(\"Price\" , \"Rating\" , paid_apps)"
   ]
  },
  {
   "cell_type": "markdown",
   "metadata": {},
   "source": [
    "大部分的App下載是不需要付費的，但是少數幾個真的很坑爹，看一下這些App是何許人也！"
   ]
  },
  {
   "cell_type": "code",
   "execution_count": null,
   "metadata": {},
   "outputs": [],
   "source": [
    "df[['Category' , 'App' , \"Price\"]][df.Price > 50].sort_values(by = \"Price\",ascending = False)"
   ]
  },
  {
   "cell_type": "code",
   "execution_count": null,
   "metadata": {},
   "outputs": [],
   "source": [
    "junk_app = df[['Category' , 'App' , \"Price\"]][df.Price > 50]\n",
    "labels = junk_app.Category.value_counts().keys().tolist()\n",
    "values = junk_app.Category.value_counts().values.tolist()\n",
    "\n",
    "data = go.Pie(labels=labels,values=values)\n",
    "iplot([data])"
   ]
  },
  {
   "cell_type": "markdown",
   "metadata": {},
   "source": [
    "財經、生活、家庭、醫學都偏貴，財經不知道在貴什麼（怒 ，我們接著看一看價格分佈"
   ]
  },
  {
   "cell_type": "code",
   "execution_count": null,
   "metadata": {},
   "outputs": [],
   "source": [
    "fig , ax = plt.subplots()\n",
    "fig.set_size_inches(15,8)\n",
    "subset_df_price = subset_df[subset_df.Price < 100]\n",
    "\n",
    "#可以很好看出階段分佈\n",
    "p = sns.stripplot(x=  \"Price\" , y = \"Category\" , data=subset_df_price , jitter = True , linewidth=1)\n",
    "title = ax.set_title('App pricing trend across categories - after filtering for expensive apps')"
   ]
  },
  {
   "cell_type": "markdown",
   "metadata": {},
   "source": [
    "大部分的App還是不會超過30美金"
   ]
  },
  {
   "cell_type": "code",
   "execution_count": null,
   "metadata": {},
   "outputs": [],
   "source": [
    "# Stacked bar graph for top 5-10 categories - Ratio of paid and free apps\n",
    "#fig, ax = plt.subplots(figsize=(15,10))\n",
    "\n",
    "new_df = df.groupby(['Category', 'Type']).agg({'App' : 'count'}).reset_index()\n",
    "#print(new_df)\n",
    "\n",
    "# outer_group_names = df['Category'].sort_values().value_counts()[:5].index\n",
    "# outer_group_values = df['Category'].sort_values().value_counts()[:5].values\n",
    "\n",
    "outer_group_names = ['GAME', 'FAMILY', 'MEDICAL', 'TOOLS']\n",
    "outer_group_values = [len(df.App[df.Category == category]) for category in outer_group_names]\n",
    "\n",
    "a, b, c, d=[plt.cm.Blues, plt.cm.Reds, plt.cm.Greens, plt.cm.Purples]\n",
    "\n",
    "\n",
    "inner_group_names = ['Paid', 'Free'] * 4\n",
    "inner_group_values = []\n",
    "#inner_colors = ['#58a27c','#FFD433']\n",
    "\n",
    "\n",
    "for category in outer_group_names:\n",
    "    for t in ['Paid', 'Free']:\n",
    "        x = new_df[new_df.Category == category]\n",
    "        try:\n",
    "            #print(x.App[x.Type == t].values[0])\n",
    "            inner_group_values.append(int(x.App[x.Type == t].values[0]))\n",
    "        except:\n",
    "            #print(x.App[x.Type == t].values[0])\n",
    "            inner_group_values.append(0)\n",
    "\n",
    "explode = (0.025,0.025,0.025,0.025)\n",
    "# First Ring (outside)\n",
    "fig, ax = plt.subplots(figsize=(10,10))\n",
    "ax.axis('equal')\n",
    "\n",
    "\n",
    "mypie, texts, _ = ax.pie(outer_group_values, radius=1.2, labels=outer_group_names, autopct='%1.1f%%', pctdistance=1.1,\n",
    "                                 labeldistance= 0.75,  explode = explode, colors=[a(0.6), b(0.6), c(0.6), d(0.6)], textprops={'fontsize': 16})\n",
    "plt.setp( mypie, width=0.5, edgecolor='black')\n",
    " \n",
    "# Second Ring (Inside)\n",
    "mypie2, _ = ax.pie(inner_group_values, radius=1.2-0.5, labels=inner_group_names, labeldistance= 0.7, \n",
    "                   textprops={'fontsize': 12}, colors = [a(0.4), a(0.2), b(0.4), b(0.2), c(0.4), c(0.2), d(0.4), d(0.2)])\n",
    "plt.setp( mypie2, width=0.5, edgecolor='black')\n",
    "plt.margins(0,0)\n",
    " \n",
    "# show it\n",
    "plt.tight_layout()\n",
    "plt.show()\n",
    "\n",
    "\n"
   ]
  },
  {
   "cell_type": "markdown",
   "metadata": {},
   "source": [
    "# Are paid apps downloaded as much as free apps?"
   ]
  },
  {
   "cell_type": "code",
   "execution_count": null,
   "metadata": {},
   "outputs": [],
   "source": [
    "trace0 = go.Box(\n",
    "    y=np.log10(df['Installs'][df.Type=='Paid']),\n",
    "    name = 'Paid',\n",
    "    marker = dict(\n",
    "        color = 'rgb(214, 12, 140)',\n",
    "    )\n",
    "\n",
    ")\n",
    "trace1 = go.Box(\n",
    "    y=np.log10(df['Installs'][df.Type=='Free']),\n",
    "    name = 'Free',\n",
    "    marker = dict(\n",
    "        color = 'rgb(0, 128, 128)',\n",
    "    )\n",
    ")\n",
    "layout = go.Layout(\n",
    "    title = \"Number of downloads of paid apps Vs free apps\",\n",
    "    yaxis= {'title': 'Number of downloads (log-scaled)'}\n",
    ")\n",
    "data = [trace0, trace1]\n",
    "plotly.offline.iplot({'data': data, 'layout': layout})"
   ]
  },
  {
   "cell_type": "markdown",
   "metadata": {},
   "source": [
    "付費App的下載量果然比free App還小"
   ]
  },
  {
   "cell_type": "code",
   "execution_count": null,
   "metadata": {},
   "outputs": [],
   "source": [
    "temp_df = df[df.Type == 'Paid']\n",
    "temp_df = temp_df[temp_df.Size > 5]\n",
    "#type_groups = df.groupby('Type')\n",
    "\n",
    "data = [{\n",
    "    #'x': type_groups.get_group(t)['Rating'], \n",
    "    'x' : temp_df['Rating'],\n",
    "    'type':'scatter',\n",
    "    'y' : temp_df['Size'],\n",
    "    #'name' : t,\n",
    "    'mode' : 'markers',\n",
    "    #'showlegend': True,\n",
    "    'text' : df['Size'],\n",
    "    } for t in set(temp_df.Type)]\n",
    "\n",
    "\n",
    "layout = {'title':\"Rating vs Size\", \n",
    "          'xaxis': {'title' : 'Rating'},\n",
    "          'yaxis' : {'title' : 'Size (in MB)'},\n",
    "         'plot_bgcolor': 'rgb(0,0,0)'}\n",
    "\n",
    "plotly.offline.iplot({'data': data, 'layout': layout})"
   ]
  },
  {
   "cell_type": "markdown",
   "metadata": {},
   "source": [
    "# 使用者會因為評論數比較多而下載App嗎？"
   ]
  },
  {
   "cell_type": "code",
   "execution_count": null,
   "metadata": {},
   "outputs": [],
   "source": [
    "#df['Installs'].corr(df['Reviews'])#df['Insta \n",
    "#print(np.corrcoef(l, rating))\n",
    "\n",
    "corrmat = df.corr()\n",
    "#f, ax = plt.subplots()\n",
    "p =sns.heatmap(corrmat, annot=True, cmap=sns.diverging_palette(220, 20, as_cmap=True))"
   ]
  },
  {
   "cell_type": "code",
   "execution_count": null,
   "metadata": {},
   "outputs": [],
   "source": [
    "df_copy = df.copy()\n",
    "\n",
    "df_copy = df_copy[df_copy.Reviews > 10]\n",
    "df_copy = df_copy[df_copy.Installs > 0]\n",
    "\n",
    "df_copy['Installs'] = np.log10(df['Installs'])\n",
    "df_copy['Reviews'] = np.log10(df['Reviews'])\n",
    "\n",
    "sns.lmplot(\"Reviews\", \"Installs\", data=df_copy)\n",
    "ax = plt.gca()\n",
    "_ = ax.set_title('Number of Reviews Vs Number of Downloads (Log scaled)')"
   ]
  },
  {
   "cell_type": "markdown",
   "metadata": {},
   "source": [
    "我們可以看到有個很明顯的正向關係，代表使用者偏好評論數多的App，但也有可能是下載量大，所以給予反饋的評論比較多。說到評論，我們就來分析一下情緒"
   ]
  },
  {
   "cell_type": "code",
   "execution_count": null,
   "metadata": {},
   "outputs": [],
   "source": [
    "reviews_df = pd.read_csv('../input/googleplaystore_user_reviews.csv')\n",
    "reviews_df.head()"
   ]
  },
  {
   "cell_type": "code",
   "execution_count": null,
   "metadata": {},
   "outputs": [],
   "source": [
    "#跟原本的表作交集\n",
    "merged_df = pd.merge(df, reviews_df, on = \"App\", how = \"inner\")\n",
    "merged_df = merged_df.dropna(subset=['Sentiment', 'Translated_Review'])"
   ]
  },
  {
   "cell_type": "code",
   "execution_count": null,
   "metadata": {},
   "outputs": [],
   "source": [
    "grouped_sentiment_category_count = merged_df.groupby(['Category', 'Sentiment']).agg({'App': 'count'}).reset_index()\n",
    "grouped_sentiment_category_sum = merged_df.groupby(['Category']).agg({'Sentiment': 'count'}).reset_index()\n",
    "\n",
    "new_df = pd.merge(grouped_sentiment_category_count, grouped_sentiment_category_sum, on=[\"Category\"])\n",
    "#print(new_df)\n",
    "new_df['Sentiment_Normalized'] = new_df.App/new_df.Sentiment_y\n",
    "new_df = new_df.groupby('Category').filter(lambda x: len(x) ==3)\n",
    "# new_df = new_df[new_df.Category.isin(['HEALTH_AND_FITNESS', 'GAME', 'FAMILY', 'EDUCATION', 'COMMUNICATION', \n",
    "#                                      'ENTERTAINMENT', 'TOOLS', 'SOCIAL', 'TRAVEL_AND_LOCAL'])]\n",
    "new_df\n",
    "\n",
    "trace1 = go.Bar(\n",
    "    x=list(new_df.Category[::3])[6:-5],\n",
    "    y= new_df.Sentiment_Normalized[::3][6:-5],\n",
    "    name='Negative',\n",
    "    marker=dict(color = 'rgb(209,49,20)')\n",
    ")\n",
    "\n",
    "trace2 = go.Bar(\n",
    "    x=list(new_df.Category[::3])[6:-5],\n",
    "    y= new_df.Sentiment_Normalized[1::3][6:-5],\n",
    "    name='Neutral',\n",
    "    marker=dict(color = 'rgb(49,130,189)')\n",
    ")\n",
    "\n",
    "trace3 = go.Bar(\n",
    "    x=list(new_df.Category[::3])[6:-5],\n",
    "    y= new_df.Sentiment_Normalized[2::3][6:-5],\n",
    "    name='Positive',\n",
    "    marker=dict(color = 'rgb(49,189,120)')\n",
    ")\n",
    "\n",
    "data = [trace1, trace2, trace3]\n",
    "layout = go.Layout(\n",
    "    title = 'Sentiment analysis',\n",
    "    barmode='stack',\n",
    "    xaxis = {'tickangle': -45},\n",
    "    yaxis = {'title': 'Fraction of reviews'}\n",
    ")\n",
    "\n",
    "fig = go.Figure(data=data, layout=layout)\n",
    "\n",
    "plotly.offline.iplot({'data': data, 'layout': layout})"
   ]
  },
  {
   "cell_type": "markdown",
   "metadata": {},
   "source": [
    "健身還有活動類型的App正向評論比例非常高。\n",
    "有趣的是，遊戲類App很少中立評價，可能手遊玩家都是對一個遊戲「有心得之後」就會馬上來評分。\n",
    "新聞類App的負評偏多，可能跟人們討厭無用的報導有關"
   ]
  },
  {
   "cell_type": "code",
   "execution_count": null,
   "metadata": {},
   "outputs": [],
   "source": [
    "sns.set_style('ticks')\n",
    "sns.set_style('darkgrid')\n",
    "fig , ax = plt.subplots()\n",
    "fig.figsize = (12 , 8)\n",
    "ax = sns.boxplot(x = 'Type' , y = 'Sentiment_Polarity' , data=merged_df)\n",
    "title = ax.set_title('Sentiment Polarity Distribution')\n"
   ]
  },
  {
   "cell_type": "markdown",
   "metadata": {},
   "source": [
    "非常有趣的是，免費App大家都罵得蠻用力的，很多負分（免費的你還嫌XD\n",
    "但是付費App就少非常多負向分數！"
   ]
  },
  {
   "cell_type": "markdown",
   "metadata": {},
   "source": [
    "# 他們都在說啥？"
   ]
  },
  {
   "cell_type": "code",
   "execution_count": null,
   "metadata": {},
   "outputs": [],
   "source": [
    "from wordcloud import WordCloud\n",
    "wc = WordCloud(background_color=\"white\", max_words=200, colormap=\"Set2\")\n",
    "# generate word cloud\n",
    "\n",
    "from nltk.corpus import stopwords\n",
    "stop = stopwords.words('english')\n",
    "stop = stop + ['app', 'APP' ,'ap', 'App', 'apps', 'application', 'browser', 'website', 'websites', 'chrome', 'click', 'web', 'ip', 'address',\n",
    "            'files', 'android', 'browse', 'service', 'use', 'one', 'download', 'email', 'Launcher']\n",
    "\n",
    "#merged_df = merged_df.dropna(subset=['Translated_Review'])\n",
    "merged_df['Translated_Review'] = merged_df['Translated_Review'].apply(lambda x: \" \".join(x for x in str(x).split(' ') if x not in stop))\n",
    "#print(any(merged_df.Translated_Review.isna()))\n",
    "merged_df.Translated_Review = merged_df.Translated_Review.apply(lambda x: x if 'app' not in x.split(' ') else np.nan)\n",
    "merged_df.dropna(subset=['Translated_Review'], inplace=True)\n",
    "\n",
    "\n",
    "free = merged_df.loc[merged_df.Type=='Free']['Translated_Review'].apply(lambda x: '' if x=='nan' else x)\n",
    "wc.generate(''.join(str(free)))\n",
    "plt.figure(figsize=(10, 10))\n",
    "plt.imshow(wc, interpolation='bilinear')\n",
    "plt.axis(\"off\")\n",
    "plt.show()"
   ]
  },
  {
   "cell_type": "code",
   "execution_count": null,
   "metadata": {},
   "outputs": [],
   "source": [
    "paid = merged_df.loc[merged_df.Type=='Paid']['Translated_Review'].apply(lambda x: '' if x=='nan' else x)\n",
    "wc.generate(''.join(str(paid)))\n",
    "plt.figure(figsize=(10, 10))\n",
    "plt.imshow(wc, interpolation='bilinear')\n",
    "plt.axis(\"off\")\n",
    "plt.show()"
   ]
  },
  {
   "cell_type": "markdown",
   "metadata": {},
   "source": [
    "# 結論：\n",
    "\n",
    "* 平均的App分數大概是4.18\n",
    "* 大部分的App都在2MB左右\n",
    "* 定價基本上都在30美金以內\n",
    "* 財經、生活、家庭、醫學的App有一些坑錢的\n",
    "* 健身App品質算是蠻穩定的（也可能他的使用者偏好給高分（？）約會、遊戲就比較普通\n",
    "* 免費App的營運商，不能太玻璃心XD"
   ]
  }
 ],
 "metadata": {
  "kernelspec": {
   "display_name": "Python 3",
   "language": "python",
   "name": "python3"
  },
  "language_info": {
   "codemirror_mode": {
    "name": "ipython",
    "version": 3
   },
   "file_extension": ".py",
   "mimetype": "text/x-python",
   "name": "python",
   "nbconvert_exporter": "python",
   "pygments_lexer": "ipython3",
   "version": "3.7.1"
  }
 },
 "nbformat": 4,
 "nbformat_minor": 1
}
