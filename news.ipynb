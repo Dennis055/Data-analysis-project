{
 "cells": [
  {
   "cell_type": "code",
   "execution_count": 8,
   "metadata": {},
   "outputs": [],
   "source": [
    "import requests\n",
    "from bs4 import BeautifulSoup\n",
    "\n",
    "\n",
    "def getApple():\n",
    "    print('蘋果今日焦點')\n",
    "    dom = requests.get('http://www.appledaily.com.tw/appledaily/hotdaily/headline').text\n",
    "    soup = BeautifulSoup(dom, 'html5lib')\n",
    "    for ele in soup.find('ul', 'all').find_all('li'):\n",
    "        title = ele.find('div', 'aht_title').text\n",
    "        view = ele.find('div', 'aht_pv_num').text\n",
    "        print(\n",
    "            ele.find('div', 'aht_title_num').text,\n",
    "            title,\n",
    "            view\n",
    "        )\n",
    "    return title , view\n",
    "    \n",
    "    #print('-----------')\n",
    "def getFreeTodat():\n",
    "    print('自由今日焦點')\n",
    "    dom = requests.get('http://news.ltn.com.tw/list/newspaper').text\n",
    "    soup = BeautifulSoup(dom, 'html5lib')\n",
    "    for ele in soup.find_all('a' , 'tit'):\n",
    "        print(ele.find('p').text.strip())"
   ]
  },
  {
   "cell_type": "code",
   "execution_count": 7,
   "metadata": {},
   "outputs": [
    {
     "name": "stdout",
     "output_type": "stream",
     "text": [
      "蘋果今日焦點\n",
      "01 玄彬 《阿宮》吸9百萬業配 孔劉咖啡亂入最瞎 10243\n",
      "02 普悠瑪翻車一家8罹難 圍爐3桌剩半桌 心酸除夕 坐不滿的團圓飯 20149\n",
      "03 命理老師謝沅瑾傳授 金豬年 5大居家開運撇步 12812\n",
      "04 勝利夜店出包再+1 偷拍打砲房實況 8950\n",
      "05 野生孫淑媚母愛臉餵男童 牽回3750萬元豪宅 19929\n",
      "06 陶喆妻 白皙腿亮點踩街 東區放風9月巨肚 10943\n",
      "07 Selina 新公司前夫參一咖 恢單3年覓桃花 12892\n",
      "08 湖人3部曲 詹皇搞教頭 演逼宮大戲 9687\n",
      "09 賈永婕 巴拉望揪女解放 曬腿4天噴50萬 14490\n",
      "10 SUBWAY搭韓劇熱 2年暴增200店 4899\n",
      "11 搶頭香霸主：盼一整年好運 迎金豬 國運旺 21445\n",
      "12 洋媳借錢耍廢 吳綺莉抖家醜7pupu 8054\n",
      "13 元祖少奶靠肉毒保顏「沒拿過夫家錢」 6558\n",
      "14 林心如 處女年菜搞工 王陽明拉妻放生海龜 5593\n",
      "15 雪梨為顧及各族裔 不再稱「中國」新年 6310\n",
      "16 魔力紅沒唱《海綿寶寶》惹怨 亞當脫衣仍被嫌「弱爆」 5435\n",
      "17 費玉清霸屏央視春晚 林志玲秀水上芭蕾 6823\n",
      "18 春運危機 華航500機師 隨時罷工 華航保證：會把旅客送抵目的地 17044\n",
      "19 反制共軍 我po演訓片「全天戰備」 6922\n",
      "20 委國亂局 歐洲12國挺瓜伊多 川普不排除動武 馬度洛嗆：將讓他的手沾血 7225\n",
      "21 雪山大火 毀3.5公頃林地 9680\n",
      "22 貴婦當廚娘 鄭麗君煮素食圍爐 身家13億 春節要陪5歲兒爬山 11983\n",
      "23 梅西出錢搜救 確定撒拉罹難 4479\n",
      "24 春節神隱 韓國瑜傳峇里島過年 10464\n",
      "25 Kelly Talk：Jolin炫衣Q 紅唇嘻哈裝俏搭粉鞋 3199\n",
      "26 佩佩豬狂吸金400億 金豬年電影上映 再開主題樂園 3385\n",
      "27 酒駕母付不出罰金 竟要15歲女兒賣身籌錢 10807\n",
      "28 絕美祕境 玩出好運 8277\n",
      "29 瘋錢母 紫南宮估湧10萬人 各地搶頭香祈福 烘爐地今送7萬個小紅包 6216\n",
      "30 朱琦郁尾牙撈很大 跑12攤笑納百萬 3424\n",
      "-----------\n",
      "自由今日焦點\n",
      "IT大老經濟把脈：金豬年 外冷內溫\n",
      "機師釀罷工 華航：會把旅客送到目的地\n",
      "湧蓮寺抽出國運上上籤 政通人和 財源廣獲\n",
      "波蘭科學家秀研發 降低太陽能板成本\n",
      "拆櫃赫見百萬黃金 正港拾「金」不昧\n",
      "陸委會：共軍恫嚇 徒增台人反感\n",
      "焦點評論》豬年大勢\n",
      "國民黨2020總統初選》王金平：吳敦義曾派郝龍斌來徵詢\n",
      "話題人物》「養豬大戶」陳師孟 藏豬5千件\n",
      "蔡總統親訪李登輝拜年\n",
      "法鼓山撞鐘祈福 蔡馬吳同框\n",
      "鎮瀾宮搶頭香 神速男奪金媽祖\n",
      "華航機師：勞資協商由交部見證\n",
      "男買「金豬」中300萬 女試手氣刮出百萬\n",
      "注意！ 國5南下今高乘載\n",
      "謠言終結站》蔡政府為國際化推雙語政策 將排擠母語資源\n"
     ]
    }
   ],
   "source": [
    "main()"
   ]
  }
 ],
 "metadata": {
  "kernelspec": {
   "display_name": "Python 3",
   "language": "python",
   "name": "python3"
  },
  "language_info": {
   "codemirror_mode": {
    "name": "ipython",
    "version": 3
   },
   "file_extension": ".py",
   "mimetype": "text/x-python",
   "name": "python",
   "nbconvert_exporter": "python",
   "pygments_lexer": "ipython3",
   "version": "3.6.5"
  }
 },
 "nbformat": 4,
 "nbformat_minor": 2
}
